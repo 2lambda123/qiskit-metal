{
 "cells": [
  {
   "cell_type": "code",
   "execution_count": null,
   "metadata": {},
   "outputs": [],
   "source": [
    "%load_ext autoreload\n",
    "%autoreload 2\n",
    "\n",
    "import qiskit_metal as metal\n",
    "from qiskit_metal import designs, draw\n",
    "from qiskit_metal import MetalGUI, Dict, Headings\n",
    "import pyEPR as epr"
   ]
  },
  {
   "cell_type": "code",
   "execution_count": null,
   "metadata": {},
   "outputs": [],
   "source": [
    "design = designs.DesignPlanar({}, True)\r\n",
    "design.chips.main.size['size_x'] = '2mm'\r\n",
    "design.chips.main.size['size_y'] = '2mm'\r\n",
    "\r\n"
   ]
  },
  {
   "cell_type": "code",
   "execution_count": null,
   "metadata": {},
   "outputs": [],
   "source": [
    "from qiskit_metal.qlibrary.qubits.transmon_pocket import TransmonPocket\r\n",
    "\r\n",
    "design.delete_all_components()\r\n",
    "\r\n",
    "q1 = TransmonPocket(design, 'Q1', options =  dict(\r\n",
    "    pad_width = '425 um', \r\n",
    "    pocket_height = '650um',\r\n",
    "    connection_pads=dict(\r\n",
    "        readout = dict(loc_W=+1,loc_H=+1, pad_width='200um')\r\n",
    "    )))\r\n"
   ]
  },
  {
   "cell_type": "code",
   "execution_count": null,
   "metadata": {},
   "outputs": [],
   "source": [
    "from qiskit_metal.analyses.simulation import ScatteringImpedanceSim\n",
    "em1 = ScatteringImpedanceSim(design, \"hfss\")"
   ]
  },
  {
   "cell_type": "code",
   "execution_count": null,
<<<<<<< HEAD:tutorials/4 Analysis/A. Core - EM and quantization/4.03 Impedance.ipynb
   "id": "cc2495f3",
   "metadata": {},
   "outputs": [],
   "source": [
    "em1.setup"
   ]
  },
  {
   "cell_type": "code",
   "execution_count": null,
   "id": "de44cad4",
=======
>>>>>>> renderer-analysis-split:tutorials/4 Analysis/A. Core - EM and quantization/4.3 Impedance.ipynb
   "metadata": {},
   "outputs": [],
   "source": [
    "# example: update single setting\n",
    "em1.setup.max_passes = 12\n",
    "em1.setup.sweep_setup.stop_ghz = 13\n",
    "# example: update multiple settings\n",
    "em1.setup_update(max_delta_s = 0.15, freq_ghz = 5.2)\n",
    "\n",
    "em1.setup"
   ]
  },
  {
   "cell_type": "code",
   "execution_count": null,
   "metadata": {},
   "outputs": [],
   "source": [
    "q1.options.hfss_inductance='11nH'\r\n"
   ]
  },
  {
   "cell_type": "code",
   "execution_count": null,
   "metadata": {},
   "outputs": [],
   "source": [
    "em1.run(name=\"SingleTM\", components=[], open_terminations=[], port_list=[('Q1', 'readout', 70)],\n",
    "           jj_to_port=[('Q1', 'rect_jj', 50, True)], box_plus_buffer = False)"
   ]
  },
  {
   "cell_type": "markdown",
   "metadata": {},
   "source": [
    "Finally, you can plot the various parameters. The semicolon at the end of the cell can be used to suppress the inline return."
   ]
  },
  {
   "cell_type": "code",
   "execution_count": null,
   "metadata": {},
   "outputs": [],
   "source": [
    "em1.get_impedance();  # default: ['Z11', 'Z21']"
   ]
  },
  {
   "cell_type": "code",
   "execution_count": null,
   "metadata": {},
   "outputs": [],
   "source": [
    "em1.get_admittance();  # default: ['Y11', 'Y21']"
   ]
  },
  {
   "cell_type": "code",
   "execution_count": null,
   "metadata": {},
   "outputs": [],
   "source": [
    "em1.get_scattering();  # default: ['S11', 'S21', 'S22']"
   ]
  },
  {
   "cell_type": "code",
   "execution_count": null,
   "metadata": {},
   "outputs": [],
   "source": [
    "em1.dashboard()"
   ]
  },
  {
   "cell_type": "code",
   "execution_count": null,
   "metadata": {},
   "outputs": [],
   "source": [
    "em1.close()"
   ]
  },
  {
   "cell_type": "markdown",
   "metadata": {},
   "source": [
    "## 3. Directly access the renderer to modify other parameters"
   ]
  },
  {
   "cell_type": "code",
   "execution_count": null,
   "metadata": {},
   "outputs": [],
   "source": [
    "em1.start()\n",
    "em1.renderer"
   ]
  },
  {
   "cell_type": "markdown",
   "metadata": {},
   "source": [
    "Every renderer will have its own collection of methods. Below an example with hfss."
   ]
  },
  {
   "cell_type": "markdown",
   "metadata": {},
   "source": [
    "##### Prepare and run a collection of predefined setups\n",
    "\n",
    "This is equivalent to going to the Project Manager panel in Ansys, right clicking on Analysis within the active HFSS design, selecting \"Add Solution Setup...\", and choosing/entering default values in the resulting popup window. You might want to do this to keep track of different solution setups, giving each of them a different/specific name."
   ]
  }
 ],
 "metadata": {
  "kernelspec": {
   "display_name": "Python 3",
   "language": "python",
   "name": "python3"
  },
  "language_info": {
   "codemirror_mode": {
    "name": "ipython",
    "version": 3
   },
   "file_extension": ".py",
   "mimetype": "text/x-python",
   "name": "python",
   "nbconvert_exporter": "python",
   "pygments_lexer": "ipython3",
   "version": "3.9.5"
  }
 },
 "nbformat": 4,
 "nbformat_minor": 5
}