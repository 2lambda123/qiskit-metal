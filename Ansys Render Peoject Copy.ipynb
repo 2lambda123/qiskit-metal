{
 "cells": [
  {
   "cell_type": "code",
   "execution_count": 1,
   "id": "259c7319",
   "metadata": {
    "scrolled": false
   },
   "outputs": [],
   "source": [
    "%reload_ext autoreload\n",
    "%autoreload 2\n",
    "import qiskit_metal as metal"
   ]
  },
  {
   "cell_type": "code",
   "execution_count": 7,
   "id": "594de25b",
   "metadata": {
    "scrolled": false
   },
   "outputs": [
    {
     "ename": "TypeError",
     "evalue": "__init__() missing 1 required positional argument: 'design'",
     "output_type": "error",
     "traceback": [
      "\u001b[1;31m---------------------------------------------------------------------------\u001b[0m",
      "\u001b[1;31mTypeError\u001b[0m                                 Traceback (most recent call last)",
      "\u001b[1;32m<ipython-input-7-424586e9b8bf>\u001b[0m in \u001b[0;36m<module>\u001b[1;34m\u001b[0m\n\u001b[0;32m      1\u001b[0m \u001b[1;32mfrom\u001b[0m \u001b[0mqiskit_metal\u001b[0m \u001b[1;32mimport\u001b[0m \u001b[0mdesigns\u001b[0m\u001b[1;33m\u001b[0m\u001b[1;33m\u001b[0m\u001b[0m\n\u001b[1;32m----> 2\u001b[1;33m \u001b[0mdesign\u001b[0m \u001b[1;33m=\u001b[0m \u001b[0mdesigns\u001b[0m\u001b[1;33m.\u001b[0m\u001b[0mDesignPlanar\u001b[0m\u001b[1;33m(\u001b[0m\u001b[1;33m)\u001b[0m\u001b[1;33m\u001b[0m\u001b[1;33m\u001b[0m\u001b[0m\n\u001b[0m",
      "\u001b[1;32m~\\Documents\\GitHub\\qiskit-metal\\qiskit_metal\\designs\\design_planar.py\u001b[0m in \u001b[0;36m__init__\u001b[1;34m(self, metadata, overwrite_enabled, enable_renderers)\u001b[0m\n\u001b[0;32m     44\u001b[0m         \"\"\"\n\u001b[0;32m     45\u001b[0m \u001b[1;33m\u001b[0m\u001b[0m\n\u001b[1;32m---> 46\u001b[1;33m         super().__init__(metadata=metadata,\n\u001b[0m\u001b[0;32m     47\u001b[0m                          \u001b[0moverwrite_enabled\u001b[0m\u001b[1;33m=\u001b[0m\u001b[0moverwrite_enabled\u001b[0m\u001b[1;33m,\u001b[0m\u001b[1;33m\u001b[0m\u001b[1;33m\u001b[0m\u001b[0m\n\u001b[0;32m     48\u001b[0m                          enable_renderers=enable_renderers)\n",
      "\u001b[1;32m~\\Documents\\GitHub\\qiskit-metal\\qiskit_metal\\designs\\design_base.py\u001b[0m in \u001b[0;36m__init__\u001b[1;34m(self, metadata, overwrite_enabled, enable_renderers)\u001b[0m\n\u001b[0;32m    150\u001b[0m         \u001b[0mself\u001b[0m\u001b[1;33m.\u001b[0m\u001b[0m_renderers\u001b[0m \u001b[1;33m=\u001b[0m \u001b[0mDict\u001b[0m\u001b[1;33m(\u001b[0m\u001b[1;33m)\u001b[0m\u001b[1;33m\u001b[0m\u001b[1;33m\u001b[0m\u001b[0m\n\u001b[0;32m    151\u001b[0m         \u001b[1;32mif\u001b[0m \u001b[0menable_renderers\u001b[0m\u001b[1;33m:\u001b[0m\u001b[1;33m\u001b[0m\u001b[1;33m\u001b[0m\u001b[0m\n\u001b[1;32m--> 152\u001b[1;33m             \u001b[0mself\u001b[0m\u001b[1;33m.\u001b[0m\u001b[0m_start_renderers\u001b[0m\u001b[1;33m(\u001b[0m\u001b[1;33m)\u001b[0m\u001b[1;33m\u001b[0m\u001b[1;33m\u001b[0m\u001b[0m\n\u001b[0m\u001b[0;32m    153\u001b[0m \u001b[1;33m\u001b[0m\u001b[0m\n\u001b[0;32m    154\u001b[0m         \u001b[1;31m# Take out of the QGeometryTables init().\u001b[0m\u001b[1;33m\u001b[0m\u001b[1;33m\u001b[0m\u001b[1;33m\u001b[0m\u001b[0m\n",
      "\u001b[1;32m~\\Documents\\GitHub\\qiskit-metal\\qiskit_metal\\designs\\design_base.py\u001b[0m in \u001b[0;36m_start_renderers\u001b[1;34m(self)\u001b[0m\n\u001b[0;32m    922\u001b[0m                 \u001b[1;31m# check if class_name is in module\u001b[0m\u001b[1;33m\u001b[0m\u001b[1;33m\u001b[0m\u001b[1;33m\u001b[0m\u001b[0m\n\u001b[0;32m    923\u001b[0m                 \u001b[1;32mif\u001b[0m \u001b[0mclass_renderer\u001b[0m \u001b[1;32mis\u001b[0m \u001b[1;32mnot\u001b[0m \u001b[1;32mNone\u001b[0m\u001b[1;33m:\u001b[0m\u001b[1;33m\u001b[0m\u001b[1;33m\u001b[0m\u001b[0m\n\u001b[1;32m--> 924\u001b[1;33m                     \u001b[0ma_renderer\u001b[0m \u001b[1;33m=\u001b[0m \u001b[0mclass_renderer\u001b[0m\u001b[1;33m(\u001b[0m\u001b[0mself\u001b[0m\u001b[1;33m,\u001b[0m \u001b[0minitiate\u001b[0m\u001b[1;33m=\u001b[0m\u001b[1;32mFalse\u001b[0m\u001b[1;33m)\u001b[0m\u001b[1;33m\u001b[0m\u001b[1;33m\u001b[0m\u001b[0m\n\u001b[0m\u001b[0;32m    925\u001b[0m \u001b[1;33m\u001b[0m\u001b[0m\n\u001b[0;32m    926\u001b[0m                     \u001b[1;31m# register renderers here.\u001b[0m\u001b[1;33m\u001b[0m\u001b[1;33m\u001b[0m\u001b[1;33m\u001b[0m\u001b[0m\n",
      "\u001b[1;31mTypeError\u001b[0m: __init__() missing 1 required positional argument: 'design'"
     ]
    }
   ],
   "source": [
    "from qiskit_metal import designs\n",
    "design = designs.DesignPlanar()"
   ]
  },
  {
   "cell_type": "code",
   "execution_count": 11,
   "id": "703cdc6f",
   "metadata": {
    "scrolled": false
   },
   "outputs": [],
   "source": [
    "from qiskit_metal.designs import DesignPlanar\n",
    "design = DesignPlanar()"
   ]
  },
  {
   "cell_type": "code",
   "execution_count": 12,
   "id": "7b4a0bce",
   "metadata": {},
   "outputs": [],
   "source": [
    "gui = metal.MetalGUI(design)"
   ]
  },
  {
   "cell_type": "code",
   "execution_count": 19,
   "id": "b39df3de",
   "metadata": {
    "scrolled": false
   },
   "outputs": [
    {
     "name": "stdout",
     "output_type": "stream",
     "text": [
      "Q3d Open\n"
     ]
    }
   ],
   "source": [
    "from qiskit_metal.renderers.renderer_ansys.q3d_renderer import QQ3DRenderer\n",
    "q3d = QQ3DRenderer(design)"
   ]
  },
  {
   "cell_type": "code",
   "execution_count": 20,
   "id": "883b3bb1",
   "metadata": {},
   "outputs": [
    {
     "name": "stdout",
     "output_type": "stream",
     "text": [
      "Hfss Open\n"
     ]
    }
   ],
   "source": [
    "from qiskit_metal.renderers.renderer_ansys.hfss_renderer import QHFSSRenderer\n",
    "hfss = QHFSSRenderer(design)"
   ]
  },
  {
   "cell_type": "code",
   "execution_count": 15,
   "id": "32c7025c",
   "metadata": {
    "scrolled": false
   },
   "outputs": [
    {
     "name": "stderr",
     "output_type": "stream",
     "text": [
      "INFO 03:55PM [connect_project]: Connecting to Ansys Desktop API...\n",
      "INFO 03:55PM [load_ansys_project]: \tOpened Ansys App\n",
      "INFO 03:55PM [load_ansys_project]: \tOpened Ansys Desktop v2020.2.0\n",
      "INFO 03:55PM [load_ansys_project]: \tOpened Ansys Project\n",
      "\tFolder:    C:/Users/3J5861897/Documents/Ansoft/\n",
      "\tProject:   Project4\n",
      "INFO 03:55PM [connect_design]: No active design found (or error getting active design).\n",
      "INFO 03:55PM [connect]: \t Connected to project \"Project4\". No design detected\n"
     ]
    },
    {
     "name": "stdout",
     "output_type": "stream",
     "text": [
      "Q3d Open\n",
      "Hfss Open\n"
     ]
    }
   ],
   "source": [
    "from qiskit_metal.renderers.renderer_ansys.ansys_renderer import QAnsysRenderer\n",
    "ansys = QAnsysRenderer(design)"
   ]
  },
  {
   "cell_type": "code",
   "execution_count": 16,
   "id": "d748bf4e",
   "metadata": {
    "scrolled": true
   },
   "outputs": [
    {
     "data": {
      "text/plain": [
       "{'status': 'Init Completed',\n",
       " '_design': <qiskit_metal.designs.design_planar.DesignPlanar at 0x1c0e985a250>,\n",
       " 'initiated': None,\n",
       " '_options': {}}"
      ]
     },
     "execution_count": 16,
     "metadata": {},
     "output_type": "execute_result"
    }
   ],
   "source": [
    "ansys.q3d.__dict__"
   ]
  },
  {
   "cell_type": "code",
   "execution_count": null,
   "id": "b26da3ca",
   "metadata": {},
   "outputs": [],
   "source": []
  },
  {
   "cell_type": "code",
   "execution_count": 21,
   "id": "874a279b",
   "metadata": {},
   "outputs": [
    {
     "name": "stdout",
     "output_type": "stream",
     "text": [
      "addict==2.4.0\n",
      "alabaster==0.7.12\n",
      "argon2-cffi @ file:///D:/bld/argon2-cffi_1605217264330/work\n",
      "async-generator==1.10\n",
      "attrdict==2.0.1\n",
      "attrs @ file:///home/conda/feedstock_root/build_artifacts/attrs_1620387926260/work\n",
      "Babel @ file:///home/conda/feedstock_root/build_artifacts/babel_1619719576210/work\n",
      "backcall @ file:///home/conda/feedstock_root/build_artifacts/backcall_1592338393461/work\n",
      "backports.functools-lru-cache @ file:///home/conda/feedstock_root/build_artifacts/backports.functools_lru_cache_1618230623929/work\n",
      "bleach @ file:///home/conda/feedstock_root/build_artifacts/bleach_1612213472466/work\n",
      "brotlipy==0.7.0\n",
      "certifi==2021.5.30\n",
      "cffi @ file:///D:/bld/cffi_1613414103629/work\n",
      "chardet @ file:///D:/bld/chardet_1610093673558/work\n",
      "click==7.1.2\n",
      "click-plugins==1.1.1\n",
      "cligj @ file:///home/conda/feedstock_root/build_artifacts/cligj_1622246659049/work\n",
      "colorama @ file:///home/conda/feedstock_root/build_artifacts/colorama_1602866480661/work\n",
      "cryptography @ file:///D:/bld/cryptography_1616851819782/work\n",
      "cycler==0.10.0\n",
      "decorator @ file:///home/conda/feedstock_root/build_artifacts/decorator_1621187651333/work\n",
      "defusedxml @ file:///home/conda/feedstock_root/build_artifacts/defusedxml_1615232257335/work\n",
      "descartes==1.1.0\n",
      "docutils @ file:///D:/bld/docutils_1618676492137/work\n",
      "entrypoints @ file:///home/conda/feedstock_root/build_artifacts/entrypoints_1605121927639/work/dist/entrypoints-0.3-py2.py3-none-any.whl\n",
      "Fiona==1.8.20\n",
      "GDAL==3.3.0\n",
      "gdspy @ file:///D:/bld/gdspy_1623263746957/work\n",
      "geopandas @ file:///home/conda/feedstock_root/build_artifacts/geopandas_1623249625470/work\n",
      "idna @ file:///home/conda/feedstock_root/build_artifacts/idna_1593328102638/work\n",
      "imagesize==1.2.0\n",
      "importlib-metadata @ file:///D:/bld/importlib-metadata_1622775679459/work\n",
      "importlib-resources @ file:///home/conda/feedstock_root/build_artifacts/importlib_resources_1621969791255/work\n",
      "ipykernel @ file:///D:/bld/ipykernel_1620913104713/work/dist/ipykernel-5.5.5-py3-none-any.whl\n",
      "ipython @ file:///D:/bld/ipython_1622679406477/work\n",
      "ipython-genutils==0.2.0\n",
      "ipywidgets @ file:///home/conda/feedstock_root/build_artifacts/ipywidgets_1609995587151/work\n",
      "jedi @ file:///D:/bld/jedi_1610147001629/work\n",
      "Jinja2 @ file:///home/conda/feedstock_root/build_artifacts/jinja2_1621419064915/work\n",
      "joblib @ file:///home/conda/feedstock_root/build_artifacts/joblib_1612898609989/work\n",
      "jsonschema @ file:///home/conda/feedstock_root/build_artifacts/jsonschema_1614815863336/work\n",
      "jupyter @ file:///D:/bld/jupyter_1611872102512/work\n",
      "jupyter-client @ file:///home/conda/feedstock_root/build_artifacts/jupyter_client_1615693636836/work\n",
      "jupyter-console @ file:///home/conda/feedstock_root/build_artifacts/jupyter_console_1616560109969/work\n",
      "jupyter-core @ file:///D:/bld/jupyter_core_1612125412016/work\n",
      "jupyterlab-pygments @ file:///home/conda/feedstock_root/build_artifacts/jupyterlab_pygments_1601375948261/work\n",
      "jupyterlab-widgets @ file:///home/conda/feedstock_root/build_artifacts/jupyterlab_widgets_1609173350931/work\n",
      "kiwisolver @ file:///D:/bld/kiwisolver_1610099953470/work\n",
      "mapclassify @ file:///home/conda/feedstock_root/build_artifacts/mapclassify_1608686039411/work\n",
      "MarkupSafe @ file:///D:/bld/markupsafe_1621455953770/work\n",
      "matplotlib @ file:///D:/bld/matplotlib-suite_1620506140045/work\n",
      "matplotlib-inline @ file:///home/conda/feedstock_root/build_artifacts/matplotlib-inline_1618935594181/work\n",
      "mistune @ file:///D:/bld/mistune_1610113097974/work\n",
      "mpmath @ file:///home/conda/feedstock_root/build_artifacts/mpmath_1612895720168/work\n",
      "munch==2.5.0\n",
      "nbclient @ file:///home/conda/feedstock_root/build_artifacts/nbclient_1614336084111/work\n",
      "nbconvert @ file:///D:/bld/nbconvert_1605402074138/work\n",
      "nbformat @ file:///home/conda/feedstock_root/build_artifacts/nbformat_1617383142101/work\n",
      "nest-asyncio @ file:///home/conda/feedstock_root/build_artifacts/nest-asyncio_1617163391303/work\n",
      "networkx @ file:///home/conda/feedstock_root/build_artifacts/networkx_1598210780226/work\n",
      "notebook @ file:///home/conda/feedstock_root/build_artifacts/notebook_1621259862661/work\n",
      "numpy @ file:///D:/bld/numpy_1622014749181/work\n",
      "olefile @ file:///home/conda/feedstock_root/build_artifacts/olefile_1602866521163/work\n",
      "packaging @ file:///home/conda/feedstock_root/build_artifacts/packaging_1612459636436/work\n",
      "pandas @ file:///D:/bld/pandas_1618263878420/work\n",
      "pandocfilters==1.4.2\n",
      "parso @ file:///home/conda/feedstock_root/build_artifacts/parso_1617148930513/work\n",
      "patsy==0.5.1\n",
      "pickleshare @ file:///home/conda/feedstock_root/build_artifacts/pickleshare_1602536217715/work\n",
      "Pillow @ file:///D:/bld/pillow_1621288269226/work\n",
      "Pint @ file:///home/conda/feedstock_root/build_artifacts/pint_1616436262198/work\n",
      "prometheus-client @ file:///home/conda/feedstock_root/build_artifacts/prometheus_client_1622586138406/work\n",
      "prompt-toolkit @ file:///home/conda/feedstock_root/build_artifacts/prompt-toolkit_1623977816122/work\n",
      "pycparser @ file:///home/conda/feedstock_root/build_artifacts/pycparser_1593275161868/work\n",
      "pyEPR-quantum @ file:///home/conda/feedstock_root/build_artifacts/pyepr-quantum_1620581117001/work\n",
      "Pygments @ file:///home/conda/feedstock_root/build_artifacts/pygments_1620245170812/work\n",
      "pyOpenSSL @ file:///home/conda/feedstock_root/build_artifacts/pyopenssl_1608055815057/work\n",
      "pyparsing==2.4.7\n",
      "pyproj @ file:///D:/bld/pyproj_1623802040687/work\n",
      "PyQt5==5.12.3\n",
      "PyQt5-sip==4.19.18\n",
      "PyQtChart==5.12\n",
      "PyQtWebEngine==5.12.1\n",
      "pyrsistent @ file:///D:/bld/pyrsistent_1610147004555/work\n",
      "PySocks @ file:///D:/bld/pysocks_1610291737679/work\n",
      "python-dateutil==2.8.1\n",
      "pytz @ file:///home/conda/feedstock_root/build_artifacts/pytz_1612179539967/work\n",
      "pywin32==300\n",
      "pywinpty @ file:///D:/bld/pywinpty_1621378659215/work/target/wheels/pywinpty-1.1.1-cp39-none-win_amd64.whl\n",
      "pyzmq @ file:///D:/bld/pyzmq_1622038686207/work\n",
      "qtconsole @ file:///home/conda/feedstock_root/build_artifacts/qtconsole_1619986260682/work\n",
      "QtPy==1.9.0\n",
      "qutip==4.6.2\n",
      "requests @ file:///home/conda/feedstock_root/build_artifacts/requests_1608156231189/work\n",
      "Rtree @ file:///D:/bld/rtree_1610147264740/work\n",
      "scikit-learn @ file:///D:/bld/scikit-learn_1619628870631/work\n",
      "scipy @ file:///C:/bld/scipy_1619562066759/work\n",
      "seaborn @ file:///home/conda/feedstock_root/build_artifacts/seaborn-split_1611834504644/work\n",
      "Send2Trash @ file:///home/conda/feedstock_root/build_artifacts/send2trash_1624366715919/work\n",
      "Shapely==1.7.1\n",
      "six @ file:///home/conda/feedstock_root/build_artifacts/six_1620240208055/work\n",
      "snowballstemmer @ file:///home/conda/feedstock_root/build_artifacts/snowballstemmer_1611270869511/work\n",
      "Sphinx @ file:///home/conda/feedstock_root/build_artifacts/sphinx_1621971887443/work\n",
      "sphinx-rtd-theme @ file:///home/conda/feedstock_root/build_artifacts/sphinx_rtd_theme_1617698677674/work\n",
      "sphinxcontrib-applehelp==1.0.2\n",
      "sphinxcontrib-devhelp==1.0.2\n",
      "sphinxcontrib-htmlhelp @ file:///home/conda/feedstock_root/build_artifacts/sphinxcontrib-htmlhelp_1621704829796/work\n",
      "sphinxcontrib-jsmath==1.0.1\n",
      "sphinxcontrib-qthelp==1.0.3\n",
      "sphinxcontrib-serializinghtml @ file:///home/conda/feedstock_root/build_artifacts/sphinxcontrib-serializinghtml_1621704833237/work\n",
      "statsmodels @ file:///D:/bld/statsmodels_1612273747431/work\n",
      "sympy @ file:///D:/bld/sympy_1618015526983/work\n",
      "terminado @ file:///D:/bld/terminado_1623365606864/work\n",
      "testpath @ file:///home/conda/feedstock_root/build_artifacts/testpath_1621261527237/work\n",
      "threadpoolctl @ file:///tmp/tmp79xdzxkt/threadpoolctl-2.1.0-py3-none-any.whl\n",
      "tornado @ file:///D:/bld/tornado_1610094910414/work\n",
      "traitlets @ file:///home/conda/feedstock_root/build_artifacts/traitlets_1602771532708/work\n",
      "urllib3 @ file:///home/conda/feedstock_root/build_artifacts/urllib3_1622056799390/work\n",
      "wcwidth @ file:///home/conda/feedstock_root/build_artifacts/wcwidth_1600965781394/work\n",
      "webencodings==0.5.1\n",
      "widgetsnbextension @ file:///D:/bld/widgetsnbextension_1605475657235/work\n",
      "win-inet-pton @ file:///D:/bld/win_inet_pton_1610147566412/work\n",
      "wincertstore==0.2\n",
      "xarray @ file:///home/conda/feedstock_root/build_artifacts/xarray_1621474818012/work\n",
      "zipp @ file:///home/conda/feedstock_root/build_artifacts/zipp_1614945704755/work\n"
     ]
    }
   ],
   "source": [
    "!pip freeze"
   ]
  },
  {
   "cell_type": "code",
   "execution_count": null,
   "id": "be9bf6b9",
   "metadata": {
    "scrolled": false
   },
   "outputs": [],
   "source": [
    "from qiskit_metal.renderers.renderer_ansys.ansys_renderer import QAnsysRenderer\n",
    "ansys1 = QAnsysRenderer(design) \n",
    "ansys1.__dict__"
   ]
  },
  {
   "cell_type": "code",
   "execution_count": null,
   "id": "40ca71f9",
   "metadata": {
    "scrolled": true
   },
   "outputs": [],
   "source": [
    "ansys1.q3d"
   ]
  },
  {
   "cell_type": "code",
   "execution_count": 17,
   "id": "a920780a",
   "metadata": {
    "scrolled": false
   },
   "outputs": [
    {
     "data": {
      "text/plain": [
       "{'status': 'Init Completed',\n",
       " '_design': <qiskit_metal.designs.design_planar.DesignPlanar at 0x1c0e985a250>,\n",
       " 'initiated': None,\n",
       " '_options': {},\n",
       " 'current_sweep': None}"
      ]
     },
     "execution_count": 17,
     "metadata": {},
     "output_type": "execute_result"
    }
   ],
   "source": [
    "hfss.__dict__"
   ]
  },
  {
   "cell_type": "code",
   "execution_count": 18,
   "id": "bc13cc5f",
   "metadata": {},
   "outputs": [
    {
     "data": {
      "text/plain": [
       "{'status': 'Init Completed',\n",
       " '_design': <qiskit_metal.designs.design_planar.DesignPlanar at 0x1c0e985a250>,\n",
       " 'initiated': None,\n",
       " '_options': {}}"
      ]
     },
     "execution_count": 18,
     "metadata": {},
     "output_type": "execute_result"
    }
   ],
   "source": [
    "q3d.__dict__"
   ]
  },
  {
   "cell_type": "code",
   "execution_count": null,
   "id": "b71cf090",
   "metadata": {},
   "outputs": [],
   "source": [
    " #def comp_max_mesh_length_jj(self):\n",
    " #       self.max_mesh_length_jj \n",
    " #       return"
   ]
  },
  {
   "cell_type": "code",
   "execution_count": null,
   "id": "1dcff5c4",
   "metadata": {},
   "outputs": [],
   "source": [
    "  class ansys:  \n",
    "    def __init__(self, max_mesh_length_jj, q3d, hfss):\n",
    "        self.max_mesh_length_jj = max_mesh_length_jj\n",
    "        self.q3d = q3d\n",
    "        self.hfss = hfss\n",
    "   \n",
    "    q3d._options.max_mesh_length_jj\n",
    "    ansys.q3d._options.max_mesh_length_jj\n",
    "    ansys.hfss.max_mesh_length_jj\n",
    "    ansys.max_mesh_length_jj\n",
    "\n",
    "    def __init__(self, status, q3d, hfss):\n",
    "        self.status = status\n",
    "        \n",
    "    def __init__(self, _design, q3d, hfss):\n",
    "        self._design = _design\n",
    "   \n",
    "    def __init__(self, initiated, q3d, hfss):\n",
    "        self.initiated = initiated\n",
    "        \n",
    "    def __init__(self, _options, q3d, hfss):\n",
    "        self._options = _options\n",
    "     \n",
    "    def __init__(self, cj, q3d, hfss):\n",
    "        self.cj = cj\n",
    "    \n",
    "    def __init__(self, rj, q3d, hfss):\n",
    "        self.rj = rj\n",
    "     \n",
    "    def __init__(self, project_path, q3d, hfss):\n",
    "        self.project_path = project_path\n",
    "        \n",
    "    def __init__(self, design_name, q3d, hfss):\n",
    "        self.design_name = design_name\n",
    "        \n",
    "    def __init__(self, project_name, q3d, hfss):\n",
    "        self.project_name = project_name\n",
    "        \n",
    "    def __init__(self, ansys_file_extension, q3d, hfss):\n",
    "        self.ansys_file_extension = ansys_file_extension\n",
    "        \n",
    "    def __init__(self, x_buffer_width_mm, q3d, hfss):\n",
    "        self.x_buffer_width_mm = x_buffer_width_mm\n",
    "        \n",
    "    def __init__(self, y_buffer_width_mm, q3d, hfss):\n",
    "        self.y_buffer_width_mm = y_buffer_width_mm\n",
    "        \n",
    "    def __init__(self, wb_threshold, q3d, hfss):\n",
    "        wb_threshold = wb_threshold\n",
    "    \n",
    "    def __init__(self, wb_offset, q3d, hfss):\n",
    "        self.wb_offset = wb_offset\n",
    "        \n",
    "    def __init__(self, wb_size, q3d, hfss):\n",
    "        self.wb_size = wb_size\n",
    "        \n",
    "    def __init__(self, plot_ansys_fields_options, q3d, hfss):\n",
    "        self.plot_ansys_fields_options = plot_ansys_fields_options\n",
    "        \n",
    "    def __init__(self, UserSpecifyName, q3d, hfss):\n",
    "        self.UserSpecifyName = UserSpecifyName\n",
    "        \n",
    "    def __init__(self, UserSpecifyFolder, q3d, hfss):\n",
    "        self.UserSpecifyFolder = UserSpecifyFolder\n",
    "        \n",
    "    def __init__(self, project_name, q3d, hfss):\n",
    "        self.QuantityName = QuantityName\n",
    "        \n",
    "    def __init__(self, PlotFolder, q3d, hfss):\n",
    "        self.PlotFolder = PlotFolder\n",
    "        \n",
    "    def __init__(self, StreamlinePlot, q3d, hfss):\n",
    "        self.StreamlinePlot = StreamlinePlot\n",
    "        \n",
    "    def __init__(self, AdjacentSidePlot, q3d, hfss):\n",
    "        self.AdjacentSidePlot = AdjacentSidePlot\n",
    "        \n",
    "    def __init__(self, FullModelPlot, q3d, hfss):\n",
    "        self.FullModelPlot = FullModelPlot\n",
    "        \n",
    "    def __init__(self, IntrinsicVar, q3d, hfss):\n",
    "        self.IntrinsicVar = IntrinsicVar\n",
    "        \n",
    "    def __init__(self, PlotGeomInfo_0, q3d, hfss):\n",
    "        self.PlotGeomInfo_0 = PlotGeomInfo_0\n",
    "        \n",
    "    def __init__(self, project_name, q3d, hfss):\n",
    "        self.project_name = PlotGeomInfo_1\n",
    "        \n",
    "    def __init__(self, PlotGeomInfo_2, q3d, hfss):\n",
    "        self.PlotGeomInfo_2 = PlotGeomInfo_2\n",
    "        \n",
    "    def __init__(self, PlotGeomInfo_3, q3d, hfss):\n",
    "        self.PlotGeomInfo_3 = PlotGeomInfo_3\n",
    "        \n",
    "    def __init__(self, render_everything, q3d, hfss):\n",
    "        self.render_everything = render_everything\n",
    "        \n",
    "    def __init__(self, _pinfo, q3d, hfss):\n",
    "        self._pinfo = _pinfo\n",
    "        \n",
    "    def __init__(self, chip_subtract_dict, hfss):\n",
    "        self.chip_subtract_dict = chip_subtract_dict\n",
    "        \n",
    "    def __init__(self, assign_perfE, hfss):\n",
    "        self.assign_perfE = assign_perfE\n",
    "        \n",
    "    def __init__(self, assign_mesh, hfss):\n",
    "        self.assign_mesh = assign_mesh\n",
    "        \n",
    "    def __init__(self, jj_lumped_ports, hfss):\n",
    "        self.jj_lumped_ports = jj_lumped_ports\n",
    "        \n",
    "    def __init__(self, jj_to_ignore, hfss):\n",
    "        self.jj_to_ignore = jj_to_ignore\n",
    "    \n",
    "    def __init__(self, current_sweep, hfss):\n",
    "        self.current_sweep = current_sweep"
   ]
  },
  {
   "cell_type": "code",
   "execution_count": null,
   "id": "57e3cbf7",
   "metadata": {},
   "outputs": [],
   "source": []
  }
 ],
 "metadata": {
  "kernelspec": {
   "display_name": "Python 3",
   "language": "python",
   "name": "python3"
  },
  "language_info": {
   "codemirror_mode": {
    "name": "ipython",
    "version": 3
   },
   "file_extension": ".py",
   "mimetype": "text/x-python",
   "name": "python",
   "nbconvert_exporter": "python",
   "pygments_lexer": "ipython3",
   "version": "3.9.5"
  }
 },
 "nbformat": 4,
 "nbformat_minor": 5
}
