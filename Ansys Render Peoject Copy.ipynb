{
 "cells": [
  {
   "cell_type": "code",
   "execution_count": 3,
   "id": "259c7319",
   "metadata": {
    "scrolled": false
   },
   "outputs": [],
   "source": [
    "%reload_ext autoreload\n",
    "%autoreload 2\n",
    "import qiskit_metal as metal"
   ]
  },
  {
   "cell_type": "code",
   "execution_count": 4,
   "id": "594de25b",
   "metadata": {
    "scrolled": false
   },
   "outputs": [],
   "source": [
    "from qiskit_metal import designs\n",
    "design = designs.DesignPlanar()"
   ]
  },
  {
   "cell_type": "code",
   "execution_count": 5,
   "id": "703cdc6f",
   "metadata": {
    "scrolled": false
   },
   "outputs": [],
   "source": [
    "from qiskit_metal.designs import DesignPlanar\n",
    "design = DesignPlanar()"
   ]
  },
  {
   "cell_type": "code",
   "execution_count": 6,
   "id": "7b4a0bce",
   "metadata": {},
   "outputs": [],
   "source": [
    "gui = metal.MetalGUI(design)"
   ]
  },
  {
   "cell_type": "code",
   "execution_count": 19,
   "id": "b39df3de",
   "metadata": {
    "scrolled": false
   },
   "outputs": [],
   "source": [
    "from qiskit_metal.renderers.renderer_ansys.q3d_renderer import QQ3DRenderer\n",
    "q3d = QQ3DRenderer(design)"
   ]
  },
  {
   "cell_type": "code",
   "execution_count": 17,
   "id": "883b3bb1",
   "metadata": {},
   "outputs": [],
   "source": [
    "from qiskit_metal.renderers.renderer_ansys.hfss_renderer import QHFSSRenderer\n",
    "hfss = QHFSSRenderer(design)"
   ]
  },
  {
   "cell_type": "code",
   "execution_count": 18,
   "id": "32c7025c",
   "metadata": {},
   "outputs": [
    {
     "ename": "TypeError",
     "evalue": "__init__() missing 1 required positional argument: 'design'",
     "output_type": "error",
     "traceback": [
      "\u001b[1;31m---------------------------------------------------------------------------\u001b[0m",
      "\u001b[1;31mTypeError\u001b[0m                                 Traceback (most recent call last)",
      "\u001b[1;32m<ipython-input-18-a783edacc88a>\u001b[0m in \u001b[0;36m<module>\u001b[1;34m\u001b[0m\n\u001b[1;32m----> 1\u001b[1;33m \u001b[1;32mfrom\u001b[0m \u001b[0mqiskit_metal\u001b[0m\u001b[1;33m.\u001b[0m\u001b[0mrenderers\u001b[0m\u001b[1;33m.\u001b[0m\u001b[0mrenderer_ansys\u001b[0m\u001b[1;33m.\u001b[0m\u001b[0mansys_renderer\u001b[0m \u001b[1;32mimport\u001b[0m \u001b[0mQAnsysRenderer\u001b[0m\u001b[1;33m\u001b[0m\u001b[1;33m\u001b[0m\u001b[0m\n\u001b[0m\u001b[0;32m      2\u001b[0m \u001b[0mansys\u001b[0m \u001b[1;33m=\u001b[0m \u001b[0mQAnsysRenderer\u001b[0m\u001b[1;33m(\u001b[0m\u001b[0mdesign\u001b[0m\u001b[1;33m)\u001b[0m\u001b[1;33m\u001b[0m\u001b[1;33m\u001b[0m\u001b[0m\n",
      "\u001b[1;32m~\\Documents\\GitHub\\qiskit-metal\\qiskit_metal\\renderers\\renderer_ansys\\ansys_renderer.py\u001b[0m in \u001b[0;36m<module>\u001b[1;34m\u001b[0m\n\u001b[0;32m     91\u001b[0m \u001b[1;33m\u001b[0m\u001b[0m\n\u001b[0;32m     92\u001b[0m \u001b[1;33m\u001b[0m\u001b[0m\n\u001b[1;32m---> 93\u001b[1;33m \u001b[1;32mclass\u001b[0m \u001b[0mQAnsysRenderer\u001b[0m\u001b[1;33m(\u001b[0m\u001b[0mQRendererAnalysis\u001b[0m\u001b[1;33m)\u001b[0m\u001b[1;33m:\u001b[0m\u001b[1;33m\u001b[0m\u001b[1;33m\u001b[0m\u001b[0m\n\u001b[0m\u001b[0;32m     94\u001b[0m     \"\"\"Extends QRenderer to export designs to Ansys using pyEPR. The methods\n\u001b[0;32m     95\u001b[0m         \u001b[0mwhich\u001b[0m \u001b[0ma\u001b[0m \u001b[0muser\u001b[0m \u001b[0mwill\u001b[0m \u001b[0mneed\u001b[0m \u001b[1;32mfor\u001b[0m \u001b[0mAnsys\u001b[0m \u001b[0mexport\u001b[0m \u001b[0mshould\u001b[0m \u001b[0mbe\u001b[0m \u001b[0mfound\u001b[0m \u001b[0mwithin\u001b[0m \u001b[0mthis\u001b[0m \u001b[1;32mclass\u001b[0m\u001b[1;33m.\u001b[0m\u001b[1;33m\u001b[0m\u001b[1;33m\u001b[0m\u001b[0m\n",
      "\u001b[1;32m~\\Documents\\GitHub\\qiskit-metal\\qiskit_metal\\renderers\\renderer_ansys\\ansys_renderer.py\u001b[0m in \u001b[0;36mQAnsysRenderer\u001b[1;34m()\u001b[0m\n\u001b[0;32m   1655\u001b[0m         \u001b[1;32mreturn\u001b[0m \u001b[0mself\u001b[0m\u001b[1;33m.\u001b[0m\u001b[0mepr_distributed_analysis\u001b[0m\u001b[1;33m.\u001b[0m\u001b[0mget_ansys_frequencies_all\u001b[0m\u001b[1;33m(\u001b[0m\u001b[1;33m)\u001b[0m\u001b[1;33m\u001b[0m\u001b[1;33m\u001b[0m\u001b[0m\n\u001b[0;32m   1656\u001b[0m \u001b[1;33m\u001b[0m\u001b[0m\n\u001b[1;32m-> 1657\u001b[1;33m     \u001b[0mself\u001b[0m\u001b[1;33m.\u001b[0m\u001b[0mhfss\u001b[0m \u001b[1;33m=\u001b[0m \u001b[0mQHFSSRenderer\u001b[0m\u001b[1;33m(\u001b[0m\u001b[1;33m)\u001b[0m\u001b[1;33m\u001b[0m\u001b[1;33m\u001b[0m\u001b[0m\n\u001b[0m\u001b[0;32m   1658\u001b[0m     \u001b[0mself\u001b[0m\u001b[1;33m.\u001b[0m\u001b[0mq3d\u001b[0m \u001b[1;33m=\u001b[0m \u001b[0mQQ3DRenderer\u001b[0m\u001b[1;33m(\u001b[0m\u001b[1;33m)\u001b[0m\u001b[1;33m\u001b[0m\u001b[1;33m\u001b[0m\u001b[0m\n",
      "\u001b[1;31mTypeError\u001b[0m: __init__() missing 1 required positional argument: 'design'"
     ]
    }
   ],
   "source": [
    "from qiskit_metal.renderers.renderer_ansys.ansys_renderer import QAnsysRenderer\n",
    "ansys = QAnsysRenderer(design)"
   ]
  },
  {
   "cell_type": "code",
   "execution_count": null,
   "id": "d748bf4e",
   "metadata": {
    "scrolled": true
   },
   "outputs": [],
   "source": [
    "ansys.__dict__"
   ]
  },
  {
   "cell_type": "code",
   "execution_count": null,
   "id": "874a279b",
   "metadata": {},
   "outputs": [],
   "source": [
    "!pip freeze"
   ]
  },
  {
   "cell_type": "code",
   "execution_count": null,
   "id": "be9bf6b9",
   "metadata": {
    "scrolled": false
   },
   "outputs": [],
   "source": [
    "from qiskit_metal.renderers.renderer_ansys.ansys_renderer import QAnsysRenderer\n",
    "ansys1 = QAnsysRenderer(design) \n",
    "ansys1.__dict__"
   ]
  },
  {
   "cell_type": "code",
   "execution_count": null,
   "id": "40ca71f9",
   "metadata": {
    "scrolled": true
   },
   "outputs": [],
   "source": [
    "ansys1.q3d"
   ]
  },
  {
   "cell_type": "code",
   "execution_count": null,
   "id": "a920780a",
   "metadata": {
    "scrolled": false
   },
   "outputs": [],
   "source": [
    "hfss.__dict__"
   ]
  },
  {
   "cell_type": "code",
   "execution_count": null,
   "id": "bc13cc5f",
   "metadata": {},
   "outputs": [],
   "source": [
    "q3d.__dict__"
   ]
  },
  {
   "cell_type": "code",
   "execution_count": null,
   "id": "b71cf090",
   "metadata": {},
   "outputs": [],
   "source": [
    " #def comp_max_mesh_length_jj(self):\n",
    " #       self.max_mesh_length_jj \n",
    " #       return"
   ]
  },
  {
   "cell_type": "code",
   "execution_count": null,
   "id": "1dcff5c4",
   "metadata": {},
   "outputs": [],
   "source": [
    "  class ansys:  \n",
    "    def __init__(self, max_mesh_length_jj, q3d, hfss):\n",
    "        self.max_mesh_length_jj = max_mesh_length_jj\n",
    "        self.q3d = q3d\n",
    "        self.hfss = hfss\n",
    "   \n",
    "    q3d._options.max_mesh_length_jj\n",
    "    ansys.q3d._options.max_mesh_length_jj\n",
    "    ansys.hfss.max_mesh_length_jj\n",
    "    ansys.max_mesh_length_jj\n",
    "\n",
    "    def __init__(self, status, q3d, hfss):\n",
    "        self.status = status\n",
    "        \n",
    "    def __init__(self, _design, q3d, hfss):\n",
    "        self._design = _design\n",
    "   \n",
    "    def __init__(self, initiated, q3d, hfss):\n",
    "        self.initiated = initiated\n",
    "        \n",
    "    def __init__(self, _options, q3d, hfss):\n",
    "        self._options = _options\n",
    "     \n",
    "    def __init__(self, cj, q3d, hfss):\n",
    "        self.cj = cj\n",
    "    \n",
    "    def __init__(self, rj, q3d, hfss):\n",
    "        self.rj = rj\n",
    "     \n",
    "    def __init__(self, project_path, q3d, hfss):\n",
    "        self.project_path = project_path\n",
    "        \n",
    "    def __init__(self, design_name, q3d, hfss):\n",
    "        self.design_name = design_name\n",
    "        \n",
    "    def __init__(self, project_name, q3d, hfss):\n",
    "        self.project_name = project_name\n",
    "        \n",
    "    def __init__(self, ansys_file_extension, q3d, hfss):\n",
    "        self.ansys_file_extension = ansys_file_extension\n",
    "        \n",
    "    def __init__(self, x_buffer_width_mm, q3d, hfss):\n",
    "        self.x_buffer_width_mm = x_buffer_width_mm\n",
    "        \n",
    "    def __init__(self, y_buffer_width_mm, q3d, hfss):\n",
    "        self.y_buffer_width_mm = y_buffer_width_mm\n",
    "        \n",
    "    def __init__(self, wb_threshold, q3d, hfss):\n",
    "        wb_threshold = wb_threshold\n",
    "    \n",
    "    def __init__(self, wb_offset, q3d, hfss):\n",
    "        self.wb_offset = wb_offset\n",
    "        \n",
    "    def __init__(self, wb_size, q3d, hfss):\n",
    "        self.wb_size = wb_size\n",
    "        \n",
    "    def __init__(self, plot_ansys_fields_options, q3d, hfss):\n",
    "        self.plot_ansys_fields_options = plot_ansys_fields_options\n",
    "        \n",
    "    def __init__(self, UserSpecifyName, q3d, hfss):\n",
    "        self.UserSpecifyName = UserSpecifyName\n",
    "        \n",
    "    def __init__(self, UserSpecifyFolder, q3d, hfss):\n",
    "        self.UserSpecifyFolder = UserSpecifyFolder\n",
    "        \n",
    "    def __init__(self, project_name, q3d, hfss):\n",
    "        self.QuantityName = QuantityName\n",
    "        \n",
    "    def __init__(self, PlotFolder, q3d, hfss):\n",
    "        self.PlotFolder = PlotFolder\n",
    "        \n",
    "    def __init__(self, StreamlinePlot, q3d, hfss):\n",
    "        self.StreamlinePlot = StreamlinePlot\n",
    "        \n",
    "    def __init__(self, AdjacentSidePlot, q3d, hfss):\n",
    "        self.AdjacentSidePlot = AdjacentSidePlot\n",
    "        \n",
    "    def __init__(self, FullModelPlot, q3d, hfss):\n",
    "        self.FullModelPlot = FullModelPlot\n",
    "        \n",
    "    def __init__(self, IntrinsicVar, q3d, hfss):\n",
    "        self.IntrinsicVar = IntrinsicVar\n",
    "        \n",
    "    def __init__(self, PlotGeomInfo_0, q3d, hfss):\n",
    "        self.PlotGeomInfo_0 = PlotGeomInfo_0\n",
    "        \n",
    "    def __init__(self, project_name, q3d, hfss):\n",
    "        self.project_name = PlotGeomInfo_1\n",
    "        \n",
    "    def __init__(self, PlotGeomInfo_2, q3d, hfss):\n",
    "        self.PlotGeomInfo_2 = PlotGeomInfo_2\n",
    "        \n",
    "    def __init__(self, PlotGeomInfo_3, q3d, hfss):\n",
    "        self.PlotGeomInfo_3 = PlotGeomInfo_3\n",
    "        \n",
    "    def __init__(self, render_everything, q3d, hfss):\n",
    "        self.render_everything = render_everything\n",
    "        \n",
    "    def __init__(self, _pinfo, q3d, hfss):\n",
    "        self._pinfo = _pinfo\n",
    "        \n",
    "    def __init__(self, chip_subtract_dict, hfss):\n",
    "        self.chip_subtract_dict = chip_subtract_dict\n",
    "        \n",
    "    def __init__(self, assign_perfE, hfss):\n",
    "        self.assign_perfE = assign_perfE\n",
    "        \n",
    "    def __init__(self, assign_mesh, hfss):\n",
    "        self.assign_mesh = assign_mesh\n",
    "        \n",
    "    def __init__(self, jj_lumped_ports, hfss):\n",
    "        self.jj_lumped_ports = jj_lumped_ports\n",
    "        \n",
    "    def __init__(self, jj_to_ignore, hfss):\n",
    "        self.jj_to_ignore = jj_to_ignore\n",
    "    \n",
    "    def __init__(self, current_sweep, hfss):\n",
    "        self.current_sweep = current_sweep"
   ]
  },
  {
   "cell_type": "code",
   "execution_count": null,
   "id": "57e3cbf7",
   "metadata": {},
   "outputs": [],
   "source": []
  }
 ],
 "metadata": {
  "kernelspec": {
   "display_name": "Python 3",
   "language": "python",
   "name": "python3"
  },
  "language_info": {
   "codemirror_mode": {
    "name": "ipython",
    "version": 3
   },
   "file_extension": ".py",
   "mimetype": "text/x-python",
   "name": "python",
   "nbconvert_exporter": "python",
   "pygments_lexer": "ipython3",
   "version": "3.9.5"
  }
 },
 "nbformat": 4,
 "nbformat_minor": 5
}
