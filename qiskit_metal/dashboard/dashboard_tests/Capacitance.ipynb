{
 "cells": [
  {
   "cell_type": "code",
   "execution_count": 1,
   "metadata": {},
   "outputs": [],
   "source": [
    "%reload_ext autoreload\n",
    "%autoreload 2"
   ]
  },
  {
   "cell_type": "code",
   "execution_count": 2,
   "metadata": {},
   "outputs": [],
   "source": [
    "import qiskit_metal as metal\n",
    "from qiskit_metal import designs, draw\n",
    "from qiskit_metal import MetalGUI, Dict, Headings"
   ]
  },
  {
   "cell_type": "code",
   "execution_count": 3,
   "metadata": {},
   "outputs": [],
   "source": [
    "design = designs.DesignPlanar()\r\n",
    "# gui = MetalGUI(design)\r\n",
    "\r\n",
    "from qiskit_metal.qlibrary.qubits.transmon_pocket import TransmonPocket\r\n",
    "from qiskit_metal.qlibrary.tlines.meandered import RouteMeander"
   ]
  },
  {
   "cell_type": "code",
   "execution_count": 4,
   "metadata": {},
   "outputs": [],
   "source": [
    "design.variables['cpw_width'] = '15 um'\n",
    "design.variables['cpw_gap'] = '9 um'"
   ]
  },
  {
   "cell_type": "code",
   "execution_count": 5,
   "metadata": {},
   "outputs": [],
   "source": [
    "# Allow running the same cell here multiple times to overwrite changes\r\n",
    "design.overwrite_enabled = True\r\n",
    "\r\n",
    "## Custom options for all the transmons\r\n",
    "options = dict(\r\n",
    "    # Some options we want to modify from the defaults\r\n",
    "    # (see below for defaults)\r\n",
    "    pad_width = '425 um', \r\n",
    "    pocket_height = '650um',\r\n",
    "    # Adding 4 connectors (see below for defaults)\r\n",
    "    connection_pads=dict(\r\n",
    "        readout = dict(loc_W=+1,loc_H=-1, pad_width='200um'),\r\n",
    "        bus1 = dict(loc_W=-1,loc_H=+1, pad_height='30um'),\r\n",
    "        bus2 = dict(loc_W=-1,loc_H=-1, pad_height='50um')\r\n",
    "    )\r\n",
    ")\r\n",
    "\r\n",
    "## Create 4 transmons\r\n",
    "\r\n",
    "q1 = TransmonPocket(design, 'Q1', options = dict(\r\n",
    "    pos_x='+2.42251mm', pos_y='+0.0mm', **options))\r\n",
    "q2 = TransmonPocket(design, 'Q2', options = dict(\r\n",
    "    pos_x='+0.0mm', pos_y='-0.95mm', orientation = '270', **options))\r\n",
    "q3 = TransmonPocket(design, 'Q3', options = dict(\r\n",
    "    pos_x='-2.42251mm', pos_y='+0.0mm', orientation = '180', **options))\r\n",
    "q4 = TransmonPocket(design, 'Q4', options = dict(\r\n",
    "    pos_x='+0.0mm', pos_y='+0.95mm', orientation = '90', **options))\r\n",
    "\r\n",
    "RouteMeander.get_template_options(design)\r\n",
    "\r\n",
    "options = Dict(\r\n",
    "        lead=Dict(\r\n",
    "            start_straight='0.2mm',\r\n",
    "            end_straight='0.2mm'),\r\n",
    "        trace_gap='9um',\r\n",
    "        trace_width='15um')\r\n",
    "\r\n",
    "def connect(component_name: str, component1: str, pin1: str, component2: str, pin2: str,\r\n",
    "            length: str, asymmetry='0 um', flip=False, fillet='90um'):\r\n",
    "    \"\"\"Connect two pins with a CPW.\"\"\"\r\n",
    "    myoptions = Dict(\r\n",
    "        fillet=fillet,\r\n",
    "        hfss_wire_bonds = True,\r\n",
    "        pin_inputs=Dict(\r\n",
    "            start_pin=Dict(\r\n",
    "                component=component1,\r\n",
    "                pin=pin1),\r\n",
    "            end_pin=Dict(\r\n",
    "                component=component2,\r\n",
    "                pin=pin2)),\r\n",
    "        total_length=length)\r\n",
    "    myoptions.update(options)\r\n",
    "    myoptions.meander.asymmetry = asymmetry\r\n",
    "    myoptions.meander.lead_direction_inverted = 'true' if flip else 'false'\r\n",
    "    return RouteMeander(design, component_name, myoptions)\r\n",
    "\r\n",
    "asym = 140\r\n",
    "cpw1 = connect('cpw1', 'Q1', 'bus2', 'Q2', 'bus1', '6.0 mm', f'+{asym}um')\r\n",
    "cpw2 = connect('cpw2', 'Q3', 'bus1', 'Q2', 'bus2', '6.1 mm', f'-{asym}um', flip=True)\r\n",
    "cpw3 = connect('cpw3', 'Q3', 'bus2', 'Q4', 'bus1', '6.0 mm', f'+{asym}um')\r\n",
    "cpw4 = connect('cpw4', 'Q1', 'bus1', 'Q4', 'bus2', '6.1 mm', f'-{asym}um', flip=True)\r\n",
    "\r\n",
    "# gui.rebuild()\r\n",
    "# gui.autoscale()"
   ]
  },
  {
   "cell_type": "code",
   "execution_count": 6,
   "metadata": {},
   "outputs": [],
   "source": [
    "from qiskit_metal.analyses.quantization import LOManalysis\n",
    "c1 = LOManalysis(design, \"q3d\")"
   ]
  },
  {
   "cell_type": "code",
   "execution_count": 7,
   "metadata": {},
   "outputs": [
    {
     "data": {
      "text/plain": "{'name': 'Setup',\n 'freq_ghz': 5.0,\n 'save_fields': False,\n 'enabled': True,\n 'max_passes': 15,\n 'min_passes': 2,\n 'min_converged_passes': 2,\n 'percent_error': 0.5,\n 'percent_refinement': 30,\n 'auto_increase_solution_order': True,\n 'solution_order': 'High',\n 'solver_type': 'Iterative'}"
     },
     "execution_count": 7,
     "metadata": {},
     "output_type": "execute_result"
    }
   ],
   "source": [
    "c1.setup.sim"
   ]
  },
  {
   "cell_type": "code",
   "execution_count": 8,
   "metadata": {},
   "outputs": [
    {
     "data": {
      "text/plain": "{'name': 'Setup',\n 'freq_ghz': 5.0,\n 'save_fields': False,\n 'enabled': True,\n 'max_passes': 6,\n 'min_passes': 2,\n 'min_converged_passes': 2,\n 'percent_error': 0.5,\n 'percent_refinement': 30,\n 'auto_increase_solution_order': 'False',\n 'solution_order': 'Medium',\n 'solver_type': 'Iterative'}"
     },
     "execution_count": 8,
     "metadata": {},
     "output_type": "execute_result"
    }
   ],
   "source": [
    "# example: update single setting\n",
    "c1.setup.sim.max_passes = 6\n",
    "# example: update multiple settings\n",
    "c1.setup_update('sim', solution_order = 'Medium', auto_increase_solution_order = 'False')\n",
    "\n",
    "c1.setup.sim"
   ]
  },
  {
   "cell_type": "code",
   "execution_count": 9,
   "metadata": {
    "scrolled": false
   },
   "outputs": [
    {
     "name": "stderr",
     "output_type": "stream",
     "text": [
      "INFO 11:52AM [connect_project]: Connecting to Ansys Desktop API...\n",
      "INFO 11:52AM [load_ansys_project]: \tOpened Ansys App\n",
      "INFO 11:52AM [load_ansys_project]: \tOpened Ansys Desktop v2020.2.0\n",
      "INFO 11:52AM [load_ansys_project]: \tOpened Ansys Project\n",
      "\tFolder:    C:/Users/connorbowman/Documents/Ansoft/\n",
      "\tProject:   Project5\n",
      "INFO 11:52AM [connect_design]: \tOpened active design\n",
      "\tDesign:    Qbit_hfss1 [Solution type: Eigenmode]\n",
      "INFO 11:52AM [get_setup]: \tOpened setup `Setup`  (<class 'pyEPR.ansys.HfssEMSetup'>)\n",
      "INFO 11:52AM [connect]: \tConnected to project \"Project5\" and design \"Qbit_hfss1\" 😀 \n",
      "\n",
      "INFO 11:52AM [connect_design]: \tOpened active design\n",
      "\tDesign:    Design_q3d [Solution type: Q3D]\n",
      "WARNING 11:52AM [connect_setup]: \tNo design setup detected.\n",
      "WARNING 11:52AM [connect_setup]: \tCreating Q3D default setup.\n",
      "INFO 11:52AM [get_setup]: \tOpened setup `Setup`  (<class 'pyEPR.ansys.AnsysQ3DSetup'>)\n",
      "INFO 11:52AM [get_setup]: \tOpened setup `Setup1`  (<class 'pyEPR.ansys.AnsysQ3DSetup'>)\n",
      "INFO 11:52AM [analyze]: Analyzing setup Setup1\n",
      "INFO 11:53AM [get_matrix]: Exporting matrix data to (C:\\Users\\CONNOR~1\\AppData\\Local\\Temp\\3\\tmpk0coyv7w.txt, C, , Setup1:LastAdaptive, \"Original\", \"ohm\", \"nH\", \"fF\", \"mSie\", 5000000000, Maxwell, 1, False\n",
      "INFO 11:53AM [get_matrix]: Exporting matrix data to (C:\\Users\\CONNOR~1\\AppData\\Local\\Temp\\3\\tmptpx7olf_.txt, C, , Setup1:AdaptivePass, \"Original\", \"ohm\", \"nH\", \"fF\", \"mSie\", 5000000000, Maxwell, 1, False\n",
      "INFO 11:53AM [get_matrix]: Exporting matrix data to (C:\\Users\\CONNOR~1\\AppData\\Local\\Temp\\3\\tmp81oe9e27.txt, C, , Setup1:AdaptivePass, \"Original\", \"ohm\", \"nH\", \"fF\", \"mSie\", 5000000000, Maxwell, 2, False\n",
      "INFO 11:53AM [get_matrix]: Exporting matrix data to (C:\\Users\\CONNOR~1\\AppData\\Local\\Temp\\3\\tmphcj9boul.txt, C, , Setup1:AdaptivePass, \"Original\", \"ohm\", \"nH\", \"fF\", \"mSie\", 5000000000, Maxwell, 3, False\n",
      "INFO 11:53AM [get_matrix]: Exporting matrix data to (C:\\Users\\CONNOR~1\\AppData\\Local\\Temp\\3\\tmpd5p8yicw.txt, C, , Setup1:AdaptivePass, \"Original\", \"ohm\", \"nH\", \"fF\", \"mSie\", 5000000000, Maxwell, 4, False\n",
      "INFO 11:53AM [get_matrix]: Exporting matrix data to (C:\\Users\\CONNOR~1\\AppData\\Local\\Temp\\3\\tmp0n4rdez_.txt, C, , Setup1:AdaptivePass, \"Original\", \"ohm\", \"nH\", \"fF\", \"mSie\", 5000000000, Maxwell, 5, False\n",
      "INFO 11:53AM [get_matrix]: Exporting matrix data to (C:\\Users\\CONNOR~1\\AppData\\Local\\Temp\\3\\tmpsya85he0.txt, C, , Setup1:AdaptivePass, \"Original\", \"ohm\", \"nH\", \"fF\", \"mSie\", 5000000000, Maxwell, 6, False\n",
      "INFO 11:53AM [get_matrix]: Exporting matrix data to (C:\\Users\\CONNOR~1\\AppData\\Local\\Temp\\3\\tmp2x1662n5.txt, C, , Setup1:AdaptivePass, \"Original\", \"ohm\", \"nH\", \"fF\", \"mSie\", 5000000000, Maxwell, 7, False\n"
     ]
    },
    {
     "data": {
      "text/plain": "('Design_q3d', 'Setup1')"
     },
     "execution_count": 9,
     "metadata": {},
     "output_type": "execute_result"
    }
   ],
   "source": [
    "c1.run_sim(components=['Q1'], open_terminations=[('Q1', 'readout'), ('Q1', 'bus1'), ('Q1', 'bus2')])"
   ]
  },
  {
   "cell_type": "code",
   "execution_count": 10,
   "metadata": {},
   "outputs": [
    {
     "name": "stdout",
     "output_type": "stream",
     "text": [
      "Design \"Design_q3d\" info:\n",
      "\t# eigenmodes    0\n",
      "\t# variations    1\n"
     ]
    },
    {
     "name": "stderr",
     "output_type": "stream",
     "text": [
      "INFO 11:53AM [hfss_report_full_convergence]: Creating report for variation 0\n"
     ]
    },
    {
     "ename": "TypeError",
     "evalue": "'Dict' object is not callable",
     "output_type": "error",
     "traceback": [
      "\u001b[1;31m---------------------------------------------------------------------------\u001b[0m",
      "\u001b[1;31mTypeError\u001b[0m                                 Traceback (most recent call last)",
      "\u001b[1;32m<ipython-input-10-20c55ca3f8b5>\u001b[0m in \u001b[0;36m<module>\u001b[1;34m\u001b[0m\n\u001b[1;32m----> 1\u001b[1;33m \u001b[0mc1\u001b[0m\u001b[1;33m.\u001b[0m\u001b[0mplot_convergence\u001b[0m\u001b[1;33m(\u001b[0m\u001b[1;33m)\u001b[0m\u001b[1;33m\u001b[0m\u001b[1;33m\u001b[0m\u001b[0m\n\u001b[0m\u001b[0;32m      2\u001b[0m \u001b[0mc1\u001b[0m\u001b[1;33m.\u001b[0m\u001b[0mplot_convergence_chi\u001b[0m\u001b[1;33m(\u001b[0m\u001b[1;33m)\u001b[0m\u001b[1;33m\u001b[0m\u001b[1;33m\u001b[0m\u001b[0m\n",
      "\u001b[1;32mc:\\users\\connorbowman\\documents\\qiskit-metal\\qiskit_metal\\analyses\\quantization\\lumped_oscillator_model.py\u001b[0m in \u001b[0;36mplot_convergence\u001b[1;34m(self, *args, **kwargs)\u001b[0m\n\u001b[0;32m    186\u001b[0m             \u001b[0mself\u001b[0m\u001b[1;33m.\u001b[0m\u001b[0mrun_lom\u001b[0m\u001b[1;33m(\u001b[0m\u001b[1;33m*\u001b[0m\u001b[0margs\u001b[0m\u001b[1;33m,\u001b[0m \u001b[1;33m**\u001b[0m\u001b[0mkwargs\u001b[0m\u001b[1;33m)\u001b[0m\u001b[1;33m\u001b[0m\u001b[1;33m\u001b[0m\u001b[0m\n\u001b[0;32m    187\u001b[0m         \u001b[1;31m# TODO: remove analysis plots from pyEPR and move it here\u001b[0m\u001b[1;33m\u001b[0m\u001b[1;33m\u001b[0m\u001b[1;33m\u001b[0m\u001b[0m\n\u001b[1;32m--> 188\u001b[1;33m         \u001b[0mself\u001b[0m\u001b[1;33m.\u001b[0m\u001b[0mrenderer\u001b[0m\u001b[1;33m.\u001b[0m\u001b[0mplot_convergence_main\u001b[0m\u001b[1;33m(\u001b[0m\u001b[0mself\u001b[0m\u001b[1;33m.\u001b[0m\u001b[0mlumped_oscillator_all\u001b[0m\u001b[1;33m)\u001b[0m\u001b[1;33m\u001b[0m\u001b[1;33m\u001b[0m\u001b[0m\n\u001b[0m\u001b[0;32m    189\u001b[0m \u001b[1;33m\u001b[0m\u001b[0m\n\u001b[0;32m    190\u001b[0m     \u001b[1;32mdef\u001b[0m \u001b[0mplot_convergence_chi\u001b[0m\u001b[1;33m(\u001b[0m\u001b[0mself\u001b[0m\u001b[1;33m,\u001b[0m \u001b[1;33m*\u001b[0m\u001b[0margs\u001b[0m\u001b[1;33m,\u001b[0m \u001b[1;33m**\u001b[0m\u001b[0mkwargs\u001b[0m\u001b[1;33m)\u001b[0m\u001b[1;33m:\u001b[0m\u001b[1;33m\u001b[0m\u001b[1;33m\u001b[0m\u001b[0m\n",
      "\u001b[1;32mc:\\users\\connorbowman\\documents\\qiskit-metal\\qiskit_metal\\renderers\\renderer_ansys\\q3d_renderer.py\u001b[0m in \u001b[0;36mplot_convergence_main\u001b[1;34m(self, RES)\u001b[0m\n\u001b[0;32m    452\u001b[0m             \u001b[0meprd\u001b[0m \u001b[1;33m=\u001b[0m \u001b[0mepr\u001b[0m\u001b[1;33m.\u001b[0m\u001b[0mDistributedAnalysis\u001b[0m\u001b[1;33m(\u001b[0m\u001b[0mself\u001b[0m\u001b[1;33m.\u001b[0m\u001b[0m_pinfo\u001b[0m\u001b[1;33m)\u001b[0m\u001b[1;33m\u001b[0m\u001b[1;33m\u001b[0m\u001b[0m\n\u001b[0;32m    453\u001b[0m             \u001b[0mepr\u001b[0m\u001b[1;33m.\u001b[0m\u001b[0mtoolbox\u001b[0m\u001b[1;33m.\u001b[0m\u001b[0mplotting\u001b[0m\u001b[1;33m.\u001b[0m\u001b[0mmpl_dpi\u001b[0m\u001b[1;33m(\u001b[0m\u001b[1;36m110\u001b[0m\u001b[1;33m)\u001b[0m\u001b[1;33m\u001b[0m\u001b[1;33m\u001b[0m\u001b[0m\n\u001b[1;32m--> 454\u001b[1;33m             \u001b[1;32mreturn\u001b[0m \u001b[0m_plot_q3d_convergence_main\u001b[0m\u001b[1;33m(\u001b[0m\u001b[0meprd\u001b[0m\u001b[1;33m,\u001b[0m \u001b[0mRES\u001b[0m\u001b[1;33m)\u001b[0m\u001b[1;33m\u001b[0m\u001b[1;33m\u001b[0m\u001b[0m\n\u001b[0m\u001b[0;32m    455\u001b[0m \u001b[1;33m\u001b[0m\u001b[0m\n\u001b[0;32m    456\u001b[0m     \u001b[1;32mdef\u001b[0m \u001b[0mplot_convergence_chi\u001b[0m\u001b[1;33m(\u001b[0m\u001b[0mself\u001b[0m\u001b[1;33m,\u001b[0m \u001b[0mRES\u001b[0m\u001b[1;33m:\u001b[0m \u001b[0mpd\u001b[0m\u001b[1;33m.\u001b[0m\u001b[0mDataFrame\u001b[0m\u001b[1;33m)\u001b[0m\u001b[1;33m:\u001b[0m\u001b[1;33m\u001b[0m\u001b[1;33m\u001b[0m\u001b[0m\n",
      "\u001b[1;32m~\\.conda\\envs\\qiskit_env\\lib\\site-packages\\pyEPR\\reports.py\u001b[0m in \u001b[0;36m_plot_q3d_convergence_main\u001b[1;34m(epr, RES)\u001b[0m\n\u001b[0;32m     91\u001b[0m     \u001b[0max\u001b[0m\u001b[1;33m.\u001b[0m\u001b[0mcla\u001b[0m\u001b[1;33m(\u001b[0m\u001b[1;33m)\u001b[0m\u001b[1;33m\u001b[0m\u001b[1;33m\u001b[0m\u001b[0m\n\u001b[0;32m     92\u001b[0m     \u001b[0max2\u001b[0m\u001b[1;33m.\u001b[0m\u001b[0mcla\u001b[0m\u001b[1;33m(\u001b[0m\u001b[1;33m)\u001b[0m\u001b[1;33m\u001b[0m\u001b[1;33m\u001b[0m\u001b[0m\n\u001b[1;32m---> 93\u001b[1;33m     \u001b[0mRES\u001b[0m\u001b[1;33m[\u001b[0m\u001b[1;34m'alpha'\u001b[0m\u001b[1;33m]\u001b[0m\u001b[1;33m.\u001b[0m\u001b[0mplot\u001b[0m\u001b[1;33m(\u001b[0m\u001b[0max\u001b[0m\u001b[1;33m=\u001b[0m\u001b[0max\u001b[0m\u001b[1;33m,\u001b[0m \u001b[0mc\u001b[0m\u001b[1;33m=\u001b[0m\u001b[1;34m'b'\u001b[0m\u001b[1;33m)\u001b[0m\u001b[1;33m\u001b[0m\u001b[1;33m\u001b[0m\u001b[0m\n\u001b[0m\u001b[0;32m     94\u001b[0m     \u001b[1;33m(\u001b[0m\u001b[0mRES\u001b[0m\u001b[1;33m[\u001b[0m\u001b[1;34m'fQ'\u001b[0m\u001b[1;33m]\u001b[0m\u001b[1;33m*\u001b[0m\u001b[1;36m1000\u001b[0m\u001b[1;33m)\u001b[0m\u001b[1;33m.\u001b[0m\u001b[0mplot\u001b[0m\u001b[1;33m(\u001b[0m\u001b[0max\u001b[0m\u001b[1;33m=\u001b[0m\u001b[0max2\u001b[0m\u001b[1;33m,\u001b[0m \u001b[0mc\u001b[0m\u001b[1;33m=\u001b[0m\u001b[1;34m'red'\u001b[0m\u001b[1;33m)\u001b[0m\u001b[1;33m\u001b[0m\u001b[1;33m\u001b[0m\u001b[0m\n\u001b[0;32m     95\u001b[0m     \u001b[1;32mfrom\u001b[0m \u001b[0mmatplotlib\u001b[0m \u001b[1;32mimport\u001b[0m \u001b[0mpyplot\u001b[0m \u001b[1;32mas\u001b[0m \u001b[0mplt\u001b[0m\u001b[1;33m\u001b[0m\u001b[1;33m\u001b[0m\u001b[0m\n",
      "\u001b[1;31mTypeError\u001b[0m: 'Dict' object is not callable"
     ]
    }
   ],
   "source": [
    "c1.plot_convergence()\r\n",
    "c1.plot_convergence_chi()"
   ]
  },
  {
   "cell_type": "code",
   "execution_count": null,
   "metadata": {},
   "outputs": [],
   "source": [
    "c1.plot(mode=\"notebook\")"
   ]
  },
  {
   "cell_type": "code",
   "execution_count": null,
   "metadata": {},
   "outputs": [],
   "source": []
  }
 ],
 "metadata": {
  "kernelspec": {
   "display_name": "Python 3.9.5 64-bit ('qiskit_env': conda)",
   "name": "python395jvsc74a57bd0ece159d69852d06a0c299e858a9cfba74ccc8af6fc5ac6c6631d36892da70dad"
  },
  "language_info": {
   "codemirror_mode": {
    "name": "ipython",
    "version": 3
   },
   "file_extension": ".py",
   "mimetype": "text/x-python",
   "name": "python",
   "nbconvert_exporter": "python",
   "pygments_lexer": "ipython3",
   "version": "3.9.5"
  }
 },
 "nbformat": 4,
 "nbformat_minor": 4
}