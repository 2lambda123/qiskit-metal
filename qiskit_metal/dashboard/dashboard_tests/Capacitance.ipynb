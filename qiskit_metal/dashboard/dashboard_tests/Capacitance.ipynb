{
 "cells": [
  {
   "cell_type": "code",
   "execution_count": null,
   "metadata": {},
   "outputs": [],
   "source": [
    "%reload_ext autoreload\n",
    "%autoreload 2"
   ]
  },
  {
   "cell_type": "code",
   "execution_count": null,
   "metadata": {},
   "outputs": [],
   "source": [
    "import qiskit_metal as metal\n",
    "from qiskit_metal import designs, draw\n",
    "from qiskit_metal import MetalGUI, Dict, Headings"
   ]
  },
  {
   "cell_type": "code",
   "execution_count": null,
   "metadata": {},
   "outputs": [],
   "source": [
    "design = designs.DesignPlanar()\r\n",
    "# gui = MetalGUI(design)\r\n",
    "\r\n",
    "from qiskit_metal.qlibrary.qubits.transmon_pocket import TransmonPocket\r\n",
    "from qiskit_metal.qlibrary.tlines.meandered import RouteMeander"
   ]
  },
  {
   "cell_type": "code",
   "execution_count": null,
   "metadata": {},
   "outputs": [],
   "source": [
    "design.variables['cpw_width'] = '15 um'\n",
    "design.variables['cpw_gap'] = '9 um'"
   ]
  },
  {
   "cell_type": "code",
   "execution_count": null,
   "metadata": {},
   "outputs": [],
   "source": [
    "# Allow running the same cell here multiple times to overwrite changes\r\n",
    "design.overwrite_enabled = True\r\n",
    "\r\n",
    "## Custom options for all the transmons\r\n",
    "options = dict(\r\n",
    "    # Some options we want to modify from the defaults\r\n",
    "    # (see below for defaults)\r\n",
    "    pad_width = '425 um', \r\n",
    "    pocket_height = '650um',\r\n",
    "    # Adding 4 connectors (see below for defaults)\r\n",
    "    connection_pads=dict(\r\n",
    "        readout = dict(loc_W=+1,loc_H=-1, pad_width='200um'),\r\n",
    "        bus1 = dict(loc_W=-1,loc_H=+1, pad_height='30um'),\r\n",
    "        bus2 = dict(loc_W=-1,loc_H=-1, pad_height='50um')\r\n",
    "    )\r\n",
    ")\r\n",
    "\r\n",
    "## Create 4 transmons\r\n",
    "\r\n",
    "q1 = TransmonPocket(design, 'Q1', options = dict(\r\n",
    "    pos_x='+2.42251mm', pos_y='+0.0mm', **options))\r\n",
    "q2 = TransmonPocket(design, 'Q2', options = dict(\r\n",
    "    pos_x='+0.0mm', pos_y='-0.95mm', orientation = '270', **options))\r\n",
    "q3 = TransmonPocket(design, 'Q3', options = dict(\r\n",
    "    pos_x='-2.42251mm', pos_y='+0.0mm', orientation = '180', **options))\r\n",
    "q4 = TransmonPocket(design, 'Q4', options = dict(\r\n",
    "    pos_x='+0.0mm', pos_y='+0.95mm', orientation = '90', **options))\r\n",
    "\r\n",
    "RouteMeander.get_template_options(design)\r\n",
    "\r\n",
    "options = Dict(\r\n",
    "        lead=Dict(\r\n",
    "            start_straight='0.2mm',\r\n",
    "            end_straight='0.2mm'),\r\n",
    "        trace_gap='9um',\r\n",
    "        trace_width='15um')\r\n",
    "\r\n",
    "def connect(component_name: str, component1: str, pin1: str, component2: str, pin2: str,\r\n",
    "            length: str, asymmetry='0 um', flip=False, fillet='90um'):\r\n",
    "    \"\"\"Connect two pins with a CPW.\"\"\"\r\n",
    "    myoptions = Dict(\r\n",
    "        fillet=fillet,\r\n",
    "        hfss_wire_bonds = True,\r\n",
    "        pin_inputs=Dict(\r\n",
    "            start_pin=Dict(\r\n",
    "                component=component1,\r\n",
    "                pin=pin1),\r\n",
    "            end_pin=Dict(\r\n",
    "                component=component2,\r\n",
    "                pin=pin2)),\r\n",
    "        total_length=length)\r\n",
    "    myoptions.update(options)\r\n",
    "    myoptions.meander.asymmetry = asymmetry\r\n",
    "    myoptions.meander.lead_direction_inverted = 'true' if flip else 'false'\r\n",
    "    return RouteMeander(design, component_name, myoptions)\r\n",
    "\r\n",
    "asym = 140\r\n",
    "cpw1 = connect('cpw1', 'Q1', 'bus2', 'Q2', 'bus1', '6.0 mm', f'+{asym}um')\r\n",
    "cpw2 = connect('cpw2', 'Q3', 'bus1', 'Q2', 'bus2', '6.1 mm', f'-{asym}um', flip=True)\r\n",
    "cpw3 = connect('cpw3', 'Q3', 'bus2', 'Q4', 'bus1', '6.0 mm', f'+{asym}um')\r\n",
    "cpw4 = connect('cpw4', 'Q1', 'bus1', 'Q4', 'bus2', '6.1 mm', f'-{asym}um', flip=True)\r\n",
    "\r\n",
    "# gui.rebuild()\r\n",
    "# gui.autoscale()"
   ]
  },
  {
   "cell_type": "code",
   "execution_count": null,
   "metadata": {},
   "outputs": [],
   "source": [
    "from qiskit_metal.analyses.quantization import LOManalysis\n",
    "c1 = LOManalysis(design, \"q3d\")"
   ]
  },
  {
   "cell_type": "code",
   "execution_count": null,
   "metadata": {},
   "outputs": [],
   "source": [
    "c1.setup.sim"
   ]
  },
  {
   "cell_type": "code",
   "execution_count": null,
   "metadata": {},
   "outputs": [],
   "source": [
    "# example: update single setting\n",
    "c1.setup.sim.max_passes = 6\n",
    "# example: update multiple settings\n",
    "c1.setup_update('sim', solution_order = 'Medium', auto_increase_solution_order = 'False')\n",
    "\n",
    "c1.setup.sim"
   ]
  },
  {
   "cell_type": "code",
   "execution_count": null,
   "metadata": {
    "scrolled": false
   },
   "outputs": [],
   "source": [
    "c1.run_sim(components=['Q1'], open_terminations=[('Q1', 'readout'), ('Q1', 'bus1'), ('Q1', 'bus2')])\n",
    "c1.capacitance_matrix"
   ]
  },
  {
   "cell_type": "code",
   "execution_count": null,
   "metadata": {},
   "outputs": [],
   "source": [
    "c1.plot_convergence()\r\n",
    "c1.plot_convergence_chi()"
   ]
  },
  {
   "cell_type": "code",
   "execution_count": null,
   "metadata": {},
   "outputs": [],
   "source": [
    "c1.plot(mode=\"notebook\")"
   ]
  },
  {
   "cell_type": "code",
   "execution_count": null,
   "metadata": {},
   "outputs": [],
   "source": []
  }
 ],
 "metadata": {
  "kernelspec": {
   "display_name": "Python 3.9.5 64-bit ('qiskit_env': conda)",
   "name": "python395jvsc74a57bd0ece159d69852d06a0c299e858a9cfba74ccc8af6fc5ac6c6631d36892da70dad"
  },
  "language_info": {
   "codemirror_mode": {
    "name": "ipython",
    "version": 3
   },
   "file_extension": ".py",
   "mimetype": "text/x-python",
   "name": "python",
   "nbconvert_exporter": "python",
   "pygments_lexer": "ipython3",
   "version": "3.9.5"
  }
 },
 "nbformat": 4,
 "nbformat_minor": 4
}