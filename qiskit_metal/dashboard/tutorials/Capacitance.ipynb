{
 "cells": [
  {
   "cell_type": "code",
   "execution_count": 1,
   "metadata": {},
   "outputs": [],
   "source": [
    "%reload_ext autoreload\n",
    "%autoreload 2"
   ]
  },
  {
   "cell_type": "code",
   "execution_count": 2,
   "metadata": {},
   "outputs": [],
   "source": [
    "import qiskit_metal as metal\n",
    "from qiskit_metal import designs, draw\n",
    "from qiskit_metal import MetalGUI, Dict, Headings"
   ]
  },
  {
   "cell_type": "code",
   "execution_count": 3,
   "metadata": {},
   "outputs": [],
   "source": [
    "design = designs.DesignPlanar()\r\n",
    "# gui = MetalGUI(design)\r\n",
    "\r\n",
    "from qiskit_metal.qlibrary.qubits.transmon_pocket import TransmonPocket\r\n",
    "from qiskit_metal.qlibrary.tlines.meandered import RouteMeander"
   ]
  },
  {
   "cell_type": "code",
   "execution_count": 4,
   "metadata": {},
   "outputs": [],
   "source": [
    "design.variables['cpw_width'] = '15 um'\n",
    "design.variables['cpw_gap'] = '9 um'"
   ]
  },
  {
   "cell_type": "code",
   "execution_count": 5,
   "metadata": {},
   "outputs": [],
   "source": [
    "# Allow running the same cell here multiple times to overwrite changes\r\n",
    "design.overwrite_enabled = True\r\n",
    "\r\n",
    "## Custom options for all the transmons\r\n",
    "options = dict(\r\n",
    "    # Some options we want to modify from the defaults\r\n",
    "    # (see below for defaults)\r\n",
    "    pad_width = '425 um', \r\n",
    "    pocket_height = '650um',\r\n",
    "    # Adding 4 connectors (see below for defaults)\r\n",
    "    connection_pads=dict(\r\n",
    "        readout = dict(loc_W=+1,loc_H=-1, pad_width='200um'),\r\n",
    "        bus1 = dict(loc_W=-1,loc_H=+1, pad_height='30um'),\r\n",
    "        bus2 = dict(loc_W=-1,loc_H=-1, pad_height='50um')\r\n",
    "    )\r\n",
    ")\r\n",
    "\r\n",
    "## Create 4 transmons\r\n",
    "\r\n",
    "q1 = TransmonPocket(design, 'Q1', options = dict(\r\n",
    "    pos_x='+2.42251mm', pos_y='+0.0mm', **options))\r\n",
    "q2 = TransmonPocket(design, 'Q2', options = dict(\r\n",
    "    pos_x='+0.0mm', pos_y='-0.95mm', orientation = '270', **options))\r\n",
    "q3 = TransmonPocket(design, 'Q3', options = dict(\r\n",
    "    pos_x='-2.42251mm', pos_y='+0.0mm', orientation = '180', **options))\r\n",
    "q4 = TransmonPocket(design, 'Q4', options = dict(\r\n",
    "    pos_x='+0.0mm', pos_y='+0.95mm', orientation = '90', **options))\r\n",
    "\r\n",
    "RouteMeander.get_template_options(design)\r\n",
    "\r\n",
    "options = Dict(\r\n",
    "        lead=Dict(\r\n",
    "            start_straight='0.2mm',\r\n",
    "            end_straight='0.2mm'),\r\n",
    "        trace_gap='9um',\r\n",
    "        trace_width='15um')\r\n",
    "\r\n",
    "def connect(component_name: str, component1: str, pin1: str, component2: str, pin2: str,\r\n",
    "            length: str, asymmetry='0 um', flip=False, fillet='90um'):\r\n",
    "    \"\"\"Connect two pins with a CPW.\"\"\"\r\n",
    "    myoptions = Dict(\r\n",
    "        fillet=fillet,\r\n",
    "        hfss_wire_bonds = True,\r\n",
    "        pin_inputs=Dict(\r\n",
    "            start_pin=Dict(\r\n",
    "                component=component1,\r\n",
    "                pin=pin1),\r\n",
    "            end_pin=Dict(\r\n",
    "                component=component2,\r\n",
    "                pin=pin2)),\r\n",
    "        total_length=length)\r\n",
    "    myoptions.update(options)\r\n",
    "    myoptions.meander.asymmetry = asymmetry\r\n",
    "    myoptions.meander.lead_direction_inverted = 'true' if flip else 'false'\r\n",
    "    return RouteMeander(design, component_name, myoptions)\r\n",
    "\r\n",
    "asym = 140\r\n",
    "cpw1 = connect('cpw1', 'Q1', 'bus2', 'Q2', 'bus1', '6.0 mm', f'+{asym}um')\r\n",
    "cpw2 = connect('cpw2', 'Q3', 'bus1', 'Q2', 'bus2', '6.1 mm', f'-{asym}um', flip=True)\r\n",
    "cpw3 = connect('cpw3', 'Q3', 'bus2', 'Q4', 'bus1', '6.0 mm', f'+{asym}um')\r\n",
    "cpw4 = connect('cpw4', 'Q1', 'bus1', 'Q4', 'bus2', '6.1 mm', f'-{asym}um', flip=True)\r\n",
    "\r\n",
    "# gui.rebuild()\r\n",
    "# gui.autoscale()"
   ]
  },
  {
   "cell_type": "code",
   "execution_count": 6,
   "metadata": {},
   "outputs": [],
   "source": [
    "from qiskit_metal.analyses.simulation.lumped_elements import LumpedElementsSim\r\n",
    "c1 = LumpedElementsSim(design, \"q3d\")"
   ]
  },
  {
   "cell_type": "code",
   "execution_count": 7,
   "metadata": {},
   "outputs": [
    {
     "data": {
      "text/plain": "{}"
     },
     "execution_count": 7,
     "metadata": {},
     "output_type": "execute_result"
    }
   ],
   "source": [
    "c1.setup.sim"
   ]
  },
  {
   "cell_type": "code",
   "execution_count": 8,
   "metadata": {},
   "outputs": [
    {
     "name": "stdout",
     "output_type": "stream",
     "text": [
      "the parameters ['solution_order', 'auto_increase_solution_order'] are unsupported, so they have been ignored\n"
     ]
    },
    {
     "data": {
      "text/plain": "{'max_passes': 6}"
     },
     "execution_count": 8,
     "metadata": {},
     "output_type": "execute_result"
    }
   ],
   "source": [
    "# example: update single setting\n",
    "c1.setup.sim.max_passes = 6\n",
    "# example: update multiple settings\n",
    "c1.setup_update('sim', solution_order = 'Medium', auto_increase_solution_order = 'False')\n",
    "\n",
    "c1.setup.sim"
   ]
  },
  {
   "cell_type": "code",
   "execution_count": 9,
   "metadata": {
    "scrolled": false
   },
   "outputs": [
    {
     "name": "stderr",
     "output_type": "stream",
     "text": [
      "INFO 03:39PM [connect_project]: Connecting to Ansys Desktop API...\n",
      "INFO 03:39PM [load_ansys_project]: \tOpened Ansys App\n",
      "INFO 03:39PM [load_ansys_project]: \tOpened Ansys Desktop v2020.2.0\n",
      "INFO 03:39PM [load_ansys_project]: \tOpened Ansys Project\n",
      "\tFolder:    C:/Users/connorbowman/Documents/Ansoft/\n",
      "\tProject:   Project5\n",
      "INFO 03:39PM [connect_design]: \tOpened active design\n",
      "\tDesign:    Qbit_hfss [Solution type: Eigenmode]\n",
      "INFO 03:39PM [get_setup]: \tOpened setup `Setup`  (<class 'pyEPR.ansys.HfssEMSetup'>)\n",
      "INFO 03:39PM [connect]: \tConnected to project \"Project5\" and design \"Qbit_hfss\" 😀 \n",
      "\n",
      "INFO 03:39PM [connect_design]: \tOpened active design\n",
      "\tDesign:    Design_q3d [Solution type: Q3D]\n",
      "INFO 03:39PM [get_setup]: \tOpened setup `Setup2`  (<class 'pyEPR.ansys.AnsysQ3DSetup'>)\n",
      "INFO 03:39PM [analyze]: Analyzing setup Setup2\n",
      "INFO 03:40PM [get_matrix]: Exporting matrix data to (C:\\Users\\CONNOR~1\\AppData\\Local\\Temp\\3\\tmpmr75v0qo.txt, C, , Setup2:LastAdaptive, \"Original\", \"ohm\", \"nH\", \"fF\", \"mSie\", 5000000000, Maxwell, 1, False\n",
      "INFO 03:40PM [get_matrix]: Exporting matrix data to (C:\\Users\\CONNOR~1\\AppData\\Local\\Temp\\3\\tmpg460paml.txt, C, , Setup2:AdaptivePass, \"Original\", \"ohm\", \"nH\", \"fF\", \"mSie\", 5000000000, Maxwell, 1, False\n",
      "INFO 03:40PM [get_matrix]: Exporting matrix data to (C:\\Users\\CONNOR~1\\AppData\\Local\\Temp\\3\\tmp1bizm1ap.txt, C, , Setup2:AdaptivePass, \"Original\", \"ohm\", \"nH\", \"fF\", \"mSie\", 5000000000, Maxwell, 2, False\n",
      "INFO 03:40PM [get_matrix]: Exporting matrix data to (C:\\Users\\CONNOR~1\\AppData\\Local\\Temp\\3\\tmpsu96ga0z.txt, C, , Setup2:AdaptivePass, \"Original\", \"ohm\", \"nH\", \"fF\", \"mSie\", 5000000000, Maxwell, 3, False\n",
      "INFO 03:40PM [get_matrix]: Exporting matrix data to (C:\\Users\\CONNOR~1\\AppData\\Local\\Temp\\3\\tmplrfha3_5.txt, C, , Setup2:AdaptivePass, \"Original\", \"ohm\", \"nH\", \"fF\", \"mSie\", 5000000000, Maxwell, 4, False\n",
      "INFO 03:40PM [get_matrix]: Exporting matrix data to (C:\\Users\\CONNOR~1\\AppData\\Local\\Temp\\3\\tmp9hhv4g0k.txt, C, , Setup2:AdaptivePass, \"Original\", \"ohm\", \"nH\", \"fF\", \"mSie\", 5000000000, Maxwell, 5, False\n",
      "INFO 03:40PM [get_matrix]: Exporting matrix data to (C:\\Users\\CONNOR~1\\AppData\\Local\\Temp\\3\\tmpcu3u708k.txt, C, , Setup2:AdaptivePass, \"Original\", \"ohm\", \"nH\", \"fF\", \"mSie\", 5000000000, Maxwell, 6, False\n",
      "INFO 03:40PM [get_matrix]: Exporting matrix data to (C:\\Users\\CONNOR~1\\AppData\\Local\\Temp\\3\\tmpd9l7wqql.txt, C, , Setup2:AdaptivePass, \"Original\", \"ohm\", \"nH\", \"fF\", \"mSie\", 5000000000, Maxwell, 7, False\n",
      "INFO 03:40PM [get_matrix]: Exporting matrix data to (C:\\Users\\CONNOR~1\\AppData\\Local\\Temp\\3\\tmpd627jal_.txt, C, , Setup2:AdaptivePass, \"Original\", \"ohm\", \"nH\", \"fF\", \"mSie\", 5000000000, Maxwell, 8, False\n",
      "INFO 03:40PM [get_matrix]: Exporting matrix data to (C:\\Users\\CONNOR~1\\AppData\\Local\\Temp\\3\\tmphnnvp0ci.txt, C, , Setup2:AdaptivePass, \"Original\", \"ohm\", \"nH\", \"fF\", \"mSie\", 5000000000, Maxwell, 9, False\n"
     ]
    },
    {
     "data": {
      "text/plain": "('Design_q3d', 'Setup2')"
     },
     "execution_count": 9,
     "metadata": {},
     "output_type": "execute_result"
    }
   ],
   "source": [
    "c1.run_sim(components=['Q1'], open_terminations=[('Q1', 'readout'), ('Q1', 'bus1'), ('Q1', 'bus2')])"
   ]
  },
  {
   "cell_type": "code",
   "execution_count": 10,
   "metadata": {},
   "outputs": [
    {
     "ename": "AttributeError",
     "evalue": "'LumpedElementsSim' object has no attribute 'plot_convergence'",
     "output_type": "error",
     "traceback": [
      "\u001b[1;31m---------------------------------------------------------------------------\u001b[0m",
      "\u001b[1;31mAttributeError\u001b[0m                            Traceback (most recent call last)",
      "\u001b[1;32m<ipython-input-10-20c55ca3f8b5>\u001b[0m in \u001b[0;36m<module>\u001b[1;34m\u001b[0m\n\u001b[1;32m----> 1\u001b[1;33m \u001b[0mc1\u001b[0m\u001b[1;33m.\u001b[0m\u001b[0mplot_convergence\u001b[0m\u001b[1;33m(\u001b[0m\u001b[1;33m)\u001b[0m\u001b[1;33m\u001b[0m\u001b[1;33m\u001b[0m\u001b[0m\n\u001b[0m\u001b[0;32m      2\u001b[0m \u001b[0mc1\u001b[0m\u001b[1;33m.\u001b[0m\u001b[0mplot_convergence_chi\u001b[0m\u001b[1;33m(\u001b[0m\u001b[1;33m)\u001b[0m\u001b[1;33m\u001b[0m\u001b[1;33m\u001b[0m\u001b[0m\n",
      "\u001b[1;31mAttributeError\u001b[0m: 'LumpedElementsSim' object has no attribute 'plot_convergence'"
     ]
    }
   ],
   "source": [
    "c1.plot_convergence()\r\n",
    "c1.plot_convergence_chi()"
   ]
  },
  {
   "cell_type": "code",
   "execution_count": null,
   "metadata": {},
   "outputs": [
    {
     "name": "stdout",
     "output_type": "stream",
     "text": [
      "{'sim_setup_name': 'Setup1', 'cap_matrix':                           bus1_connector_pad_Q1  bus2_connector_pad_Q1  \\\n",
      "bus1_connector_pad_Q1                  49.77795               -0.42560   \n",
      "bus2_connector_pad_Q1                  -0.42560               54.01889   \n",
      "ground_main_plane                     -33.50862              -35.77523   \n",
      "pad_bot_Q1                             -1.57029              -13.99742   \n",
      "pad_top_Q1                            -13.15538               -1.82852   \n",
      "readout_connector_pad_Q1               -0.20494               -1.01319   \n",
      "\n",
      "                          ground_main_plane  pad_bot_Q1  pad_top_Q1  \\\n",
      "bus1_connector_pad_Q1             -33.50862    -1.57029   -13.15538   \n",
      "bus2_connector_pad_Q1             -35.77523   -13.99742    -1.82852   \n",
      "ground_main_plane                 237.69040   -31.53487   -37.88741   \n",
      "pad_bot_Q1                        -31.53487    98.20669   -30.07382   \n",
      "pad_top_Q1                        -37.88741   -30.07382    87.85077   \n",
      "readout_connector_pad_Q1          -36.55732   -18.86490    -2.20122   \n",
      "\n",
      "                          readout_connector_pad_Q1  \n",
      "bus1_connector_pad_Q1                     -0.20494  \n",
      "bus2_connector_pad_Q1                     -1.01319  \n",
      "ground_main_plane                        -36.55732  \n",
      "pad_bot_Q1                               -18.86490  \n",
      "pad_top_Q1                                -2.20122  \n",
      "readout_connector_pad_Q1                  59.92347  , 'units': 'fF', 'cap_all_passes': {1:               0             1             2             3             4  \\\n",
      "0  4.415332e-14 -3.663700e-16 -3.115073e-14 -1.401230e-15 -1.043670e-14   \n",
      "1 -3.663700e-16  4.653668e-14 -3.277839e-14 -1.166069e-14 -5.577900e-16   \n",
      "2 -3.115073e-14 -3.277839e-14  2.416181e-13 -2.893561e-14 -3.629212e-14   \n",
      "3 -1.401230e-15 -1.166069e-14 -2.893561e-14  8.599263e-14 -2.616610e-14   \n",
      "4 -1.043670e-14 -5.577900e-16 -3.629212e-14 -2.616610e-14  7.737246e-14   \n",
      "5 -1.674600e-16 -2.770100e-16 -3.408253e-14 -1.618387e-14 -1.933070e-15   \n",
      "\n",
      "              5  \n",
      "0 -1.674600e-16  \n",
      "1 -2.770100e-16  \n",
      "2 -3.408253e-14  \n",
      "3 -1.618387e-14  \n",
      "4 -1.933070e-15  \n",
      "5  5.333931e-14  , 2:               0             1             2             3             4  \\\n",
      "0  4.638256e-14 -4.205500e-16 -3.162468e-14 -1.415500e-15 -1.192504e-14   \n",
      "1 -4.205500e-16  4.982902e-14 -3.385549e-14 -1.198315e-14 -1.670120e-15   \n",
      "2 -3.162468e-14 -3.385549e-14  2.384186e-13 -3.063674e-14 -3.701521e-14   \n",
      "3 -1.415500e-15 -1.198315e-14 -3.063674e-14  8.925286e-14 -2.640136e-14   \n",
      "4 -1.192504e-14 -1.670120e-15 -3.701521e-14 -2.640136e-14  8.128092e-14   \n",
      "5 -2.025400e-16 -1.005500e-15 -3.478090e-14 -1.679658e-14 -1.917370e-15   \n",
      "\n",
      "              5  \n",
      "0 -2.025400e-16  \n",
      "1 -1.005500e-15  \n",
      "2 -3.478090e-14  \n",
      "3 -1.679658e-14  \n",
      "4 -1.917370e-15  \n",
      "5  5.570301e-14  , 3:               0             1             2             3             4  \\\n",
      "0  4.785105e-14 -4.295700e-16 -3.238668e-14 -1.508240e-15 -1.243737e-14   \n",
      "1 -4.295700e-16  5.174601e-14 -3.450374e-14 -1.301245e-14 -1.800090e-15   \n",
      "2 -3.238668e-14 -3.450374e-14  2.358014e-13 -3.104184e-14 -3.705348e-14   \n",
      "3 -1.508240e-15 -1.301245e-14 -3.104184e-14  9.291204e-14 -2.764049e-14   \n",
      "4 -1.243737e-14 -1.800090e-15 -3.705348e-14 -2.764049e-14  8.363099e-14   \n",
      "5 -2.065000e-16 -1.004460e-15 -3.566417e-14 -1.754708e-14 -2.172190e-15   \n",
      "\n",
      "              5  \n",
      "0 -2.065000e-16  \n",
      "1 -1.004460e-15  \n",
      "2 -3.566417e-14  \n",
      "3 -1.754708e-14  \n",
      "4 -2.172190e-15  \n",
      "5  5.769293e-14  , 4:               0             1             2             3             4  \\\n",
      "0  4.851834e-14 -4.359000e-16 -3.285836e-14 -1.543450e-15 -1.259387e-14   \n",
      "1 -4.359000e-16  5.278088e-14 -3.505246e-14 -1.343837e-14 -1.819110e-15   \n",
      "2 -3.285836e-14 -3.505246e-14  2.360385e-13 -3.121241e-14 -3.722659e-14   \n",
      "3 -1.543450e-15 -1.343837e-14 -3.121241e-14  9.478948e-14 -2.850726e-14   \n",
      "4 -1.259387e-14 -1.819110e-15 -3.722659e-14 -2.850726e-14  8.500398e-14   \n",
      "5 -2.091900e-16 -1.030940e-15 -3.589504e-14 -1.783588e-14 -2.186010e-15   \n",
      "\n",
      "              5  \n",
      "0 -2.091900e-16  \n",
      "1 -1.030940e-15  \n",
      "2 -3.589504e-14  \n",
      "3 -1.783588e-14  \n",
      "4 -2.186010e-15  \n",
      "5  5.826474e-14  , 5:               0             1             2             3             4  \\\n",
      "0  4.895814e-14 -4.287200e-16 -3.302099e-14 -1.539980e-15 -1.285713e-14   \n",
      "1 -4.287200e-16  5.310082e-14 -3.515616e-14 -1.369220e-14 -1.819120e-15   \n",
      "2 -3.302099e-14 -3.515616e-14  2.363705e-13 -3.148795e-14 -3.756760e-14   \n",
      "3 -1.539980e-15 -1.369220e-14 -3.148795e-14  9.699923e-14 -2.947185e-14   \n",
      "4 -1.285713e-14 -1.819120e-15 -3.756760e-14 -2.947185e-14  8.666628e-14   \n",
      "5 -2.071600e-16 -1.002870e-15 -3.619616e-14 -1.850740e-14 -2.202820e-15   \n",
      "\n",
      "              5  \n",
      "0 -2.071600e-16  \n",
      "1 -1.002870e-15  \n",
      "2 -3.619616e-14  \n",
      "3 -1.850740e-14  \n",
      "4 -2.202820e-15  \n",
      "5  5.921226e-14  , 6:               0             1             2             3             4  \\\n",
      "0  4.977795e-14 -4.256000e-16 -3.350862e-14 -1.570290e-15 -1.315538e-14   \n",
      "1 -4.256000e-16  5.401889e-14 -3.577523e-14 -1.399742e-14 -1.828520e-15   \n",
      "2 -3.350862e-14 -3.577523e-14  2.376904e-13 -3.153487e-14 -3.788741e-14   \n",
      "3 -1.570290e-15 -1.399742e-14 -3.153487e-14  9.820669e-14 -3.007382e-14   \n",
      "4 -1.315538e-14 -1.828520e-15 -3.788741e-14 -3.007382e-14  8.785077e-14   \n",
      "5 -2.049400e-16 -1.013190e-15 -3.655732e-14 -1.886490e-14 -2.201220e-15   \n",
      "\n",
      "              5  \n",
      "0 -2.049400e-16  \n",
      "1 -1.013190e-15  \n",
      "2 -3.655732e-14  \n",
      "3 -1.886490e-14  \n",
      "4 -2.201220e-15  \n",
      "5  5.992347e-14  }}\n"
     ]
    },
    {
     "ename": "KeyError",
     "evalue": "'Delta %'",
     "output_type": "error",
     "traceback": [
      "\u001b[1;31m---------------------------------------------------------------------------\u001b[0m",
      "\u001b[1;31mKeyError\u001b[0m                                  Traceback (most recent call last)",
      "\u001b[1;32m<ipython-input-15-15d18065441c>\u001b[0m in \u001b[0;36m<module>\u001b[1;34m\u001b[0m\n\u001b[1;32m----> 1\u001b[1;33m \u001b[0mc1\u001b[0m\u001b[1;33m.\u001b[0m\u001b[0mdashboard\u001b[0m\u001b[1;33m(\u001b[0m\u001b[0mmode\u001b[0m\u001b[1;33m=\u001b[0m\u001b[1;34m\"notebook\"\u001b[0m\u001b[1;33m)\u001b[0m\u001b[1;33m\u001b[0m\u001b[1;33m\u001b[0m\u001b[0m\n\u001b[0m",
      "\u001b[1;32mc:\\users\\connorbowman\\documents\\qiskit-metal\\qiskit_metal\\analyses\\quantization\\sim_lumped_elements.py\u001b[0m in \u001b[0;36mdashboard\u001b[1;34m(self, mode, default_graph_data)\u001b[0m\n\u001b[0;32m    219\u001b[0m             \u001b[1;31m# default_graph_data[\"Delta % vs. Solved Elements (1000s)\"] = concat_df_cols()\u001b[0m\u001b[1;33m\u001b[0m\u001b[1;33m\u001b[0m\u001b[1;33m\u001b[0m\u001b[0m\n\u001b[0;32m    220\u001b[0m \u001b[1;33m\u001b[0m\u001b[0m\n\u001b[1;32m--> 221\u001b[1;33m             \u001b[0mdefault_graph_data\u001b[0m\u001b[1;33m[\u001b[0m\u001b[1;34m\"Delta %\"\u001b[0m\u001b[1;33m]\u001b[0m\u001b[1;33m\u001b[0m\u001b[1;33m\u001b[0m\u001b[0m\n\u001b[0m\u001b[0;32m    222\u001b[0m         \u001b[1;32mreturn\u001b[0m \u001b[0msuper\u001b[0m\u001b[1;33m(\u001b[0m\u001b[1;33m)\u001b[0m\u001b[1;33m.\u001b[0m\u001b[0mdashboard\u001b[0m\u001b[1;33m(\u001b[0m\u001b[0mmode\u001b[0m\u001b[1;33m=\u001b[0m\u001b[0mmode\u001b[0m\u001b[1;33m,\u001b[0m \u001b[0mdefault_graph_data\u001b[0m\u001b[1;33m=\u001b[0m\u001b[0mdefault_graph_data\u001b[0m\u001b[1;33m)\u001b[0m\u001b[1;33m\u001b[0m\u001b[1;33m\u001b[0m\u001b[0m\n",
      "\u001b[1;31mKeyError\u001b[0m: 'Delta %'"
     ]
    },
    {
     "name": "stdout",
     "output_type": "stream",
     "text": [
      "\u001b[1;31m---------------------------------------------------------------------------\u001b[0m\n",
      "\u001b[1;31mKeyError\u001b[0m                                  Traceback (most recent call last)\n",
      "\u001b[1;32mc:\\users\\connorbowman\\documents\\qiskit-metal\\qiskit_metal\\dashboard\\analysis_dashboard.py\u001b[0m in \u001b[0;36mhandle_dropdown\u001b[1;34m(\n",
      "    dropdowns=['convergence_t'],\n",
      "    secondary_children=[]\n",
      ")\u001b[0m\n",
      "\u001b[0;32m    158\u001b[0m             \u001b[0mclass_name\u001b[0m \u001b[1;33m=\u001b[0m \u001b[1;34m\"mb-2\"\u001b[0m\u001b[1;33m\u001b[0m\u001b[1;33m\u001b[0m\u001b[0m\n",
      "\u001b[0;32m    159\u001b[0m             \u001b[1;32mif\u001b[0m \u001b[0mdropdowns\u001b[0m\u001b[1;33m[\u001b[0m\u001b[1;36m0\u001b[0m\u001b[1;33m]\u001b[0m\u001b[1;33m:\u001b[0m  \u001b[1;31m# 1 is full\u001b[0m\u001b[1;33m\u001b[0m\u001b[1;33m\u001b[0m\u001b[0m\n",
      "\u001b[1;32m--> 160\u001b[1;33m                 \u001b[1;32mif\u001b[0m \u001b[0misinstance\u001b[0m\u001b[1;33m(\u001b[0m\u001b[0mself\u001b[0m\u001b[1;33m.\u001b[0m\u001b[0mplot_data\u001b[0m\u001b[1;33m[\u001b[0m\u001b[0mdropdowns\u001b[0m\u001b[1;33m[\u001b[0m\u001b[1;36m0\u001b[0m\u001b[1;33m]\u001b[0m\u001b[1;33m]\u001b[0m\u001b[1;33m,\u001b[0m \u001b[0mdict\u001b[0m\u001b[1;33m)\u001b[0m\u001b[1;33m:\u001b[0m  \u001b[1;31m# 1 is dict\u001b[0m\u001b[1;33m\u001b[0m\u001b[1;33m\u001b[0m\u001b[0m\n",
      "\u001b[0m        \u001b[1;36mglobal\u001b[0m \u001b[0;36misinstance\u001b[0m \u001b[1;34m= \u001b[1;36mundefined\u001b[0m\u001b[0m\u001b[1;34m\n",
      "        \u001b[0m\u001b[1;36mglobal\u001b[0m \u001b[0;36mself.plot_data\u001b[0m \u001b[1;34m= \u001b[1;36mundefined\u001b[0m\u001b[0m\u001b[1;34m\n",
      "        \u001b[0m\u001b[0;36mdropdowns\u001b[0m \u001b[1;34m= ['convergence_t']\u001b[0m\u001b[1;34m\n",
      "        \u001b[0m\u001b[1;36mglobal\u001b[0m \u001b[0;36mdict\u001b[0m \u001b[1;34m= \u001b[1;36mundefined\u001b[0m\u001b[0m\n",
      "\u001b[0;32m    161\u001b[0m                     \u001b[1;32mif\u001b[0m \u001b[0mlen\u001b[0m\u001b[1;33m(\u001b[0m\u001b[0mdropdowns\u001b[0m\u001b[1;33m)\u001b[0m \u001b[1;33m>\u001b[0m \u001b[1;36m1\u001b[0m\u001b[1;33m:\u001b[0m  \u001b[1;31m# 2 exists\u001b[0m\u001b[1;33m\u001b[0m\u001b[1;33m\u001b[0m\u001b[0m\n",
      "\u001b[0;32m    162\u001b[0m                         \u001b[0msecond_dropdown\u001b[0m \u001b[1;33m=\u001b[0m \u001b[0msecondary_children\u001b[0m\u001b[1;33m\u001b[0m\u001b[1;33m\u001b[0m\u001b[0m\n",
      "\n",
      "\u001b[1;31mKeyError\u001b[0m: 'convergence_t'\n",
      "\n",
      "\u001b[1;31m---------------------------------------------------------------------------\u001b[0m\n",
      "\u001b[1;31mKeyError\u001b[0m                                  Traceback (most recent call last)\n",
      "\u001b[1;32mc:\\users\\connorbowman\\documents\\qiskit-metal\\qiskit_metal\\dashboard\\analysis_dashboard.py\u001b[0m in \u001b[0;36mhandle_dropdown\u001b[1;34m(\n",
      "    dropdowns=['convergence_f'],\n",
      "    secondary_children=[]\n",
      ")\u001b[0m\n",
      "\u001b[0;32m    158\u001b[0m             \u001b[0mclass_name\u001b[0m \u001b[1;33m=\u001b[0m \u001b[1;34m\"mb-2\"\u001b[0m\u001b[1;33m\u001b[0m\u001b[1;33m\u001b[0m\u001b[0m\n",
      "\u001b[0;32m    159\u001b[0m             \u001b[1;32mif\u001b[0m \u001b[0mdropdowns\u001b[0m\u001b[1;33m[\u001b[0m\u001b[1;36m0\u001b[0m\u001b[1;33m]\u001b[0m\u001b[1;33m:\u001b[0m  \u001b[1;31m# 1 is full\u001b[0m\u001b[1;33m\u001b[0m\u001b[1;33m\u001b[0m\u001b[0m\n",
      "\u001b[1;32m--> 160\u001b[1;33m                 \u001b[1;32mif\u001b[0m \u001b[0misinstance\u001b[0m\u001b[1;33m(\u001b[0m\u001b[0mself\u001b[0m\u001b[1;33m.\u001b[0m\u001b[0mplot_data\u001b[0m\u001b[1;33m[\u001b[0m\u001b[0mdropdowns\u001b[0m\u001b[1;33m[\u001b[0m\u001b[1;36m0\u001b[0m\u001b[1;33m]\u001b[0m\u001b[1;33m]\u001b[0m\u001b[1;33m,\u001b[0m \u001b[0mdict\u001b[0m\u001b[1;33m)\u001b[0m\u001b[1;33m:\u001b[0m  \u001b[1;31m# 1 is dict\u001b[0m\u001b[1;33m\u001b[0m\u001b[1;33m\u001b[0m\u001b[0m\n",
      "\u001b[0m        \u001b[1;36mglobal\u001b[0m \u001b[0;36misinstance\u001b[0m \u001b[1;34m= \u001b[1;36mundefined\u001b[0m\u001b[0m\u001b[1;34m\n",
      "        \u001b[0m\u001b[1;36mglobal\u001b[0m \u001b[0;36mself.plot_data\u001b[0m \u001b[1;34m= \u001b[1;36mundefined\u001b[0m\u001b[0m\u001b[1;34m\n",
      "        \u001b[0m\u001b[0;36mdropdowns\u001b[0m \u001b[1;34m= ['convergence_f']\u001b[0m\u001b[1;34m\n",
      "        \u001b[0m\u001b[1;36mglobal\u001b[0m \u001b[0;36mdict\u001b[0m \u001b[1;34m= \u001b[1;36mundefined\u001b[0m\u001b[0m\n",
      "\u001b[0;32m    161\u001b[0m                     \u001b[1;32mif\u001b[0m \u001b[0mlen\u001b[0m\u001b[1;33m(\u001b[0m\u001b[0mdropdowns\u001b[0m\u001b[1;33m)\u001b[0m \u001b[1;33m>\u001b[0m \u001b[1;36m1\u001b[0m\u001b[1;33m:\u001b[0m  \u001b[1;31m# 2 exists\u001b[0m\u001b[1;33m\u001b[0m\u001b[1;33m\u001b[0m\u001b[0m\n",
      "\u001b[0;32m    162\u001b[0m                         \u001b[0msecond_dropdown\u001b[0m \u001b[1;33m=\u001b[0m \u001b[0msecondary_children\u001b[0m\u001b[1;33m\u001b[0m\u001b[1;33m\u001b[0m\u001b[0m\n",
      "\n",
      "\u001b[1;31mKeyError\u001b[0m: 'convergence_f'\n",
      "\n"
     ]
    }
   ],
   "source": [
    "c1.dashboard(mode=\"notebook\")"
   ]
  },
  {
   "cell_type": "code",
   "execution_count": null,
   "metadata": {},
   "outputs": [],
   "source": []
  }
 ],
 "metadata": {
  "kernelspec": {
   "display_name": "Python 3.9.5 64-bit ('qiskit_env': conda)",
   "name": "python395jvsc74a57bd0ece159d69852d06a0c299e858a9cfba74ccc8af6fc5ac6c6631d36892da70dad"
  },
  "language_info": {
   "codemirror_mode": {
    "name": "ipython",
    "version": 3
   },
   "file_extension": ".py",
   "mimetype": "text/x-python",
   "name": "python",
   "nbconvert_exporter": "python",
   "pygments_lexer": "ipython3",
   "version": "3.9.5"
  }
 },
 "nbformat": 4,
 "nbformat_minor": 4
}