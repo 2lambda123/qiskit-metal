{
 "cells": [
  {
   "cell_type": "code",
   "execution_count": 1,
   "metadata": {},
   "outputs": [],
   "source": [
    "%reload_ext autoreload\r\n",
    "%autoreload 2"
   ]
  },
  {
   "cell_type": "code",
   "execution_count": 2,
   "metadata": {},
   "outputs": [],
   "source": [
    "\r\n",
    "\r\n",
    "import qiskit_metal\r\n",
    "from qiskit_metal import designs, draw\r\n",
    "from qiskit_metal import MetalGUI, Dict, Headings\r\n",
    "import pyEPR as epr"
   ]
  },
  {
   "cell_type": "code",
   "execution_count": 3,
   "metadata": {},
   "outputs": [],
   "source": [
    "design = designs.DesignPlanar({}, True)\r\n",
    "design.chips.main.size['size_x'] = '2mm'\r\n",
    "design.chips.main.size['size_y'] = '2mm'\r\n",
    "from qiskit_metal.qlibrary.qubits.transmon_pocket import TransmonPocket\r\n",
    "\r\n",
    "design.delete_all_components()\r\n",
    "\r\n",
    "q1 = TransmonPocket(design, 'Q1', options = dict(\r\n",
    "    pad_width = '425 um', \r\n",
    "    pocket_height = '650um',\r\n",
    "    connection_pads=dict(\r\n",
    "        readout = dict(loc_W=+1,loc_H=+1, pad_width='200um')\r\n",
    "    )))"
   ]
  },
  {
   "cell_type": "code",
   "execution_count": 4,
   "metadata": {},
   "outputs": [
    {
     "name": "stderr",
     "output_type": "stream",
     "text": [
      "INFO 12:49PM [connect_project]: Connecting to Ansys Desktop API...\n",
      "INFO 12:49PM [load_ansys_project]: \tOpened Ansys App\n",
      "INFO 12:49PM [load_ansys_project]: \tOpened Ansys Desktop v2020.2.0\n",
      "INFO 12:49PM [load_ansys_project]: \tOpened Ansys Project\n",
      "\tFolder:    C:/Users/connorbowman/Documents/Ansoft/\n",
      "\tProject:   Project5\n",
      "INFO 12:49PM [connect_design]: \tOpened active design\n",
      "\tDesign:    SingleTM_hfss [Solution type: DrivenModal]\n",
      "INFO 12:49PM [get_setup]: \tOpened setup `Setup`  (<class 'pyEPR.ansys.HfssDMSetup'>)\n",
      "INFO 12:49PM [connect]: \tConnected to project \"Project5\" and design \"SingleTM_hfss\" 😀 \n",
      "\n",
      "INFO 12:49PM [connect_design]: \tOpened active design\n",
      "\tDesign:    Qbit_hfss2 [Solution type: Eigenmode]\n",
      "WARNING 12:49PM [connect_setup]: \tNo design setup detected.\n",
      "WARNING 12:49PM [connect_setup]: \tCreating eigenmode default setup.\n",
      "INFO 12:49PM [get_setup]: \tOpened setup `Setup`  (<class 'pyEPR.ansys.HfssEMSetup'>)\n",
      "INFO 12:49PM [get_setup]: \tOpened setup `Setup1`  (<class 'pyEPR.ansys.HfssEMSetup'>)\n",
      "INFO 12:49PM [analyze]: Analyzing setup Setup1\n",
      "12:50PM 15s INFO [get_f_convergence]: Saved convergences to c:\\Users\\connorbowman\\Documents\\qiskit-metal\\qiskit_metal\\dashboard\\dashboard_tests\\hfss_eig_f_convergence.csv\n"
     ]
    },
    {
     "data": {
      "text/plain": "('Qbit_hfss2', 'Setup1')"
     },
     "execution_count": 4,
     "metadata": {},
     "output_type": "execute_result"
    }
   ],
   "source": [
    "from qiskit_metal.analyses.quantization import EigenmodeSim\r\n",
    "eig_qb = EigenmodeSim(design, 'hfss')\r\n",
    "eig_qb.setup.sim.max_passes = 6\r\n",
    "eig_qb.setup.sim.vars.Lj = '11 nH'\r\n",
    "eig_qb.setup_update(\"sim\", max_delta_f = 0.4, min_freq_ghz = 1.1)\r\n",
    "eig_qb.run_sim(name=\"Qbit\", components=['Q1'], open_terminations=[], box_plus_buffer = False)\r\n"
   ]
  },
  {
   "cell_type": "code",
   "execution_count": 5,
   "metadata": {},
   "outputs": [
    {
     "data": {
      "text/html": "\n        <iframe\n            width=\"100%\"\n            height=\"650\"\n            src=\"http://127.0.0.1:8050/\"\n            frameborder=\"0\"\n            allowfullscreen\n        ></iframe>\n        ",
      "text/plain": "<IPython.lib.display.IFrame at 0x225356d9b80>"
     },
     "metadata": {},
     "output_type": "display_data"
    },
    {
     "name": "stdout",
     "output_type": "stream",
     "text": [
      "                             Data     0     1     2     3     4     5\n",
      "0  convergence_t_cSolved Elements  2161  2815  3666  4769  6204  8073\n",
      "                               Data     0        1          2          3  \\\n",
      "0    convergence_t_cSolved Elements  2161  2815.00  3666.0000  4769.0000   \n",
      "0  convergence_t_cMax Delta Freq. %  None    15.34     4.8065     3.0814   \n",
      "\n",
      "           4           5  \n",
      "0  6204.0000  8073.00000  \n",
      "0     1.2087     0.89676  \n"
     ]
    }
   ],
   "source": [
    "eig_qb.dashboard()"
   ]
  }
 ],
 "metadata": {
  "kernelspec": {
   "display_name": "Python 3.9.5 64-bit ('qiskit_env': conda)",
   "name": "python395jvsc74a57bd0ece159d69852d06a0c299e858a9cfba74ccc8af6fc5ac6c6631d36892da70dad"
  },
  "language_info": {
   "codemirror_mode": {
    "name": "ipython",
    "version": 3
   },
   "file_extension": ".py",
   "mimetype": "text/x-python",
   "name": "python",
   "nbconvert_exporter": "python",
   "pygments_lexer": "ipython3",
   "version": "3.9.5"
  },
  "orig_nbformat": 2
 },
 "nbformat": 4,
 "nbformat_minor": 2
}