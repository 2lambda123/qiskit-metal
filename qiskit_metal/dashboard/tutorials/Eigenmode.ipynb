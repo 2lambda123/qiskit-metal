{
 "cells": [
  {
   "cell_type": "code",
   "execution_count": 5,
   "metadata": {},
   "outputs": [],
   "source": [
    "%reload_ext autoreload\r\n",
    "%autoreload 2"
   ]
  },
  {
   "cell_type": "code",
   "execution_count": 6,
   "metadata": {},
   "outputs": [],
   "source": [
    "\r\n",
    "\r\n",
    "import qiskit_metal\r\n",
    "from qiskit_metal import designs, draw\r\n",
    "from qiskit_metal import MetalGUI, Dict, Headings\r\n",
    "import pyEPR as epr"
   ]
  },
  {
   "cell_type": "code",
   "execution_count": 7,
   "metadata": {},
   "outputs": [],
   "source": [
    "design = designs.DesignPlanar({}, True)\r\n",
    "design.chips.main.size['size_x'] = '2mm'\r\n",
    "design.chips.main.size['size_y'] = '2mm'\r\n",
    "from qiskit_metal.qlibrary.qubits.transmon_pocket import TransmonPocket\r\n",
    "\r\n",
    "design.delete_all_components()\r\n",
    "\r\n",
    "q1 = TransmonPocket(design, 'Q1', options = dict(\r\n",
    "    pad_width = '425 um', \r\n",
    "    pocket_height = '650um',\r\n",
    "    connection_pads=dict(\r\n",
    "        readout = dict(loc_W=+1,loc_H=+1, pad_width='200um')\r\n",
    "    )))"
   ]
  },
  {
   "cell_type": "code",
   "execution_count": 8,
   "metadata": {},
   "outputs": [
    {
     "name": "stderr",
     "output_type": "stream",
     "text": [
      "INFO 03:36PM [connect_project]: Connecting to Ansys Desktop API...\n",
      "INFO 03:36PM [load_ansys_project]: \tOpened Ansys App\n",
      "INFO 03:36PM [load_ansys_project]: \tOpened Ansys Desktop v2020.2.0\n",
      "INFO 03:36PM [load_ansys_project]: \tOpened Ansys Project\n",
      "\tFolder:    C:/Users/connorbowman/Documents/Ansoft/\n",
      "\tProject:   Project5\n"
     ]
    },
    {
     "name": "stdout",
     "output_type": "stream",
     "text": [
      "the parameters ['max_delta_f', 'min_freq_ghz'] are unsupported, so they have been ignored\n"
     ]
    },
    {
     "name": "stderr",
     "output_type": "stream",
     "text": [
      "INFO 03:36PM [connect_design]: \tOpened active design\n",
      "\tDesign:    Qbit_hfss3 [Solution type: Eigenmode]\n",
      "INFO 03:36PM [get_setup]: \tOpened setup `Setup`  (<class 'pyEPR.ansys.HfssEMSetup'>)\n",
      "INFO 03:36PM [connect]: \tConnected to project \"Project5\" and design \"Qbit_hfss3\" 😀 \n",
      "\n",
      "INFO 03:36PM [connect_design]: \tOpened active design\n",
      "\tDesign:    Qbit_hfss [Solution type: Eigenmode]\n",
      "INFO 03:37PM [get_setup]: \tOpened setup `Setup2`  (<class 'pyEPR.ansys.HfssEMSetup'>)\n",
      "INFO 03:37PM [analyze]: Analyzing setup Setup2\n",
      "03:37PM 32s INFO [get_f_convergence]: Saved convergences to c:\\Users\\connorbowman\\Documents\\qiskit-metal\\qiskit_metal\\dashboard\\tutorials\\hfss_eig_f_convergence.csv\n"
     ]
    },
    {
     "data": {
      "text/plain": "('Qbit_hfss', 'Setup2')"
     },
     "execution_count": 8,
     "metadata": {},
     "output_type": "execute_result"
    }
   ],
   "source": [
    "from qiskit_metal.analyses.simulation.eigenmode import EigenmodeSim \r\n",
    "eig_qb = EigenmodeSim(design, 'hfss')\r\n",
    "eig_qb.setup.sim.max_passes = 6\r\n",
    "eig_qb.setup.sim.vars.Lj = '11 nH'\r\n",
    "eig_qb.setup_update(\"sim\", max_delta_f = 0.4, min_freq_ghz = 1.1)\r\n",
    "eig_qb.run_sim(name=\"Qbit\", components=['Q1'], open_terminations=[], box_plus_buffer = False)\r\n"
   ]
  },
  {
   "cell_type": "code",
   "execution_count": 9,
   "metadata": {},
   "outputs": [
    {
     "data": {
      "text/html": "\n        <iframe\n            width=\"100%\"\n            height=\"650\"\n            src=\"http://127.0.0.1:8050/\"\n            frameborder=\"0\"\n            allowfullscreen\n        ></iframe>\n        ",
      "text/plain": "<IPython.lib.display.IFrame at 0x1acf90cc220>"
     },
     "metadata": {},
     "output_type": "display_data"
    },
    {
     "name": "stdout",
     "output_type": "stream",
     "text": [
      "                             Data     0     1     2     3     4     5      6  \\\n",
      "0  convergence_t_cSolved Elements  2161  2815  3666  4769  6204  8070  10496   \n",
      "\n",
      "       7  \n",
      "0  13647  \n",
      "                               Data     0        1          2          3  \\\n",
      "0    convergence_t_cSolved Elements  2161  2815.00  3666.0000  4769.0000   \n",
      "0  convergence_t_cMax Delta Freq. %  None    15.34     4.8065     3.0814   \n",
      "\n",
      "           4           5            6            7  \n",
      "0  6204.0000  8070.00000  10496.00000  13647.00000  \n",
      "0     1.2087     0.89882      0.68131      0.41855  \n"
     ]
    }
   ],
   "source": [
    "eig_qb.dashboard()"
   ]
  }
 ],
 "metadata": {
  "kernelspec": {
   "display_name": "Python 3.9.5 64-bit ('qiskit_env': conda)",
   "name": "python395jvsc74a57bd0ece159d69852d06a0c299e858a9cfba74ccc8af6fc5ac6c6631d36892da70dad"
  },
  "language_info": {
   "codemirror_mode": {
    "name": "ipython",
    "version": 3
   },
   "file_extension": ".py",
   "mimetype": "text/x-python",
   "name": "python",
   "nbconvert_exporter": "python",
   "pygments_lexer": "ipython3",
   "version": "3.9.5"
  },
  "orig_nbformat": 2
 },
 "nbformat": 4,
 "nbformat_minor": 2
}