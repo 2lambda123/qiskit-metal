{
 "cells": [
  {
   "cell_type": "code",
   "execution_count": null,
   "metadata": {},
   "outputs": [],
   "source": [
    "%reload_ext autoreload\r\n",
    "%autoreload 2"
   ]
  },
  {
   "cell_type": "code",
   "execution_count": null,
   "metadata": {},
   "outputs": [],
   "source": [
    "\r\n",
    "\r\n",
    "import qiskit_metal\r\n",
    "from qiskit_metal import designs, draw\r\n",
    "from qiskit_metal import MetalGUI, Dict, Headings\r\n",
    "import pyEPR as epr"
   ]
  },
  {
   "cell_type": "code",
   "execution_count": null,
   "metadata": {},
   "outputs": [],
   "source": [
    "design = designs.DesignPlanar({}, True)\r\n",
    "design.chips.main.size['size_x'] = '2mm'\r\n",
    "design.chips.main.size['size_y'] = '2mm'\r\n",
    "from qiskit_metal.qlibrary.qubits.transmon_pocket import TransmonPocket\r\n",
    "\r\n",
    "design.delete_all_components()\r\n",
    "\r\n",
    "q1 = TransmonPocket(design, 'Q1', options = dict(\r\n",
    "    pad_width = '425 um', \r\n",
    "    pocket_height = '650um',\r\n",
    "    connection_pads=dict(\r\n",
    "        readout = dict(loc_W=+1,loc_H=+1, pad_width='200um')\r\n",
    "    )))"
   ]
  },
  {
   "cell_type": "code",
   "execution_count": null,
   "metadata": {},
   "outputs": [],
   "source": [
    "from qiskit_metal.analyses.simulation.eigenmode import EigenmodeSim \r\n",
    "eig_qb = EigenmodeSim(design, 'hfss')\r\n",
    "eig_qb.setup.sim.max_passes = 6\r\n",
    "eig_qb.setup.sim.vars.Lj = '11 nH'\r\n",
    "eig_qb.setup_update(\"sim\", max_delta_f = 0.4, min_freq_ghz = 1.1)\r\n",
    "eig_qb.run_sim(name=\"Qbit\", components=['Q1'], open_terminations=[], box_plus_buffer = False)\r\n"
   ]
  },
  {
   "cell_type": "code",
   "execution_count": null,
   "metadata": {},
   "outputs": [],
   "source": [
    "eig_qb.dashboard()"
   ]
  }
 ],
 "metadata": {
  "kernelspec": {
   "display_name": "Python 3.9.5 64-bit ('qiskit_env': conda)",
   "name": "python395jvsc74a57bd0ece159d69852d06a0c299e858a9cfba74ccc8af6fc5ac6c6631d36892da70dad"
  },
  "language_info": {
   "codemirror_mode": {
    "name": "ipython",
    "version": 3
   },
   "file_extension": ".py",
   "mimetype": "text/x-python",
   "name": "python",
   "nbconvert_exporter": "python",
   "pygments_lexer": "ipython3",
   "version": "3.9.5"
  },
  "orig_nbformat": 2
 },
 "nbformat": 4,
 "nbformat_minor": 2
}