{
 "cells": [
  {
   "cell_type": "code",
   "execution_count": 1,
   "id": "4b7bf2c0",
   "metadata": {},
   "outputs": [],
   "source": [
    "import unittest\n",
    "\n",
    "import numpy as np\n",
    "\n",
    "from shapely.geometry import Polygon\n",
    "from shapely.geometry import LineString\n",
    "from shapely.geometry import CAP_STYLE\n",
    "from shapely.geometry import JOIN_STYLE\n",
    "\n",
    "from qiskit_metal.draw import basic\n",
    "from qiskit_metal.draw import utility\n",
    "from qiskit_metal.draw.utility import Vector, Vec3D\n",
    "from qiskit_metal.tests.assertions import AssertionsMixin\n"
   ]
  },
  {
   "cell_type": "code",
   "execution_count": 2,
   "id": "efc98d9f-dbc8-4fa1-bff9-828575cee728",
   "metadata": {},
   "outputs": [],
   "source": [
    "class TestDraw(unittest.TestCase, AssertionsMixin):\n",
    "    \"\"\"Unit test class.\"\"\"\n",
    "\n",
    "    def setUp(self):\n",
    "        \"\"\"Setup unit test.\"\"\"\n",
    "        pass\n",
    "\n",
    "    def tearDown(self):\n",
    "        \"\"\"Tie any loose ends.\"\"\"\n",
    "        pass\n",
    "    def test_draw_basic_buffer(self):\n",
    "        \"\"\"Test buffer in basic.py.\"\"\"\n",
    "        poly = Polygon([(0, 0), (0.5, 0), (0.25, 0.5)])\n",
    "\n",
    "        expected = [[(-0.16180339887498948, -0.1), (0.25, 0.7236067977499789),\n",
    "                     (0.6618033988749895, -0.1), (-0.16180339887498948, -0.1)],\n",
    "                    [(-0.16180339887498948, -0.1), (0.25, 0.7236067977499789),\n",
    "                     (0.6618033988749895, -0.1), (-0.16180339887498948, -0.1)],\n",
    "                    [(-0.16180339887498948, -0.1), (0.25, 0.7236067977499789),\n",
    "                     (0.6618033988749895, -0.1), (-0.16180339887498948, -0.1)],\n",
    "                    [(-0.08944271909999159, 0.044721359549995794),\n",
    "                     (0.16055728090000843, 0.5447213595499958),\n",
    "                     (0.3394427190999916, 0.5447213595499958),\n",
    "                     (0.5894427190999916, 0.044721359549995794), (0.5, -0.1),\n",
    "                     (0.0, -0.1), (-0.08944271909999159, 0.044721359549995794)],\n",
    "                    [(-0.06980083939497377, 0.05587673960663148),\n",
    "                     (0.16341640786499884, 0.5300000000000004),\n",
    "                     (0.3365835921350014, 0.5299999999999997),\n",
    "                     (0.5698008393949741, 0.05587673960663103),\n",
    "                     (0.4812382091061482, -0.08742060633377921),\n",
    "                     (0.018761790893851275, -0.08742060633377935),\n",
    "                     (-0.06980083939497377, 0.05587673960663148)]]\n",
    "\n",
    "        poly_1 = basic.buffer(poly, 0.1)\n",
    "        poly_2 = basic.buffer(poly, 0.1, resolution=2)\n",
    "        poly_3 = basic.buffer(poly,\n",
    "                              0.1,\n",
    "                              resolution=2,\n",
    "                              cap_style=CAP_STYLE.round)\n",
    "        poly_4 = basic.buffer(poly,\n",
    "                              0.1,\n",
    "                              resolution=2,\n",
    "                              cap_style=CAP_STYLE.round,\n",
    "                              join_style=JOIN_STYLE.bevel)\n",
    "        poly_5 = basic.buffer(poly, 0.1, resolution=2, mitre_limit=0.8)\n",
    "        print(\"POLY 5\")\n",
    "        print(poly_5)  #values differ here\n",
    "    "
   ]
  },
  {
   "cell_type": "code",
   "execution_count": 4,
   "id": "6210823e-76f8-46c6-8505-5b52c29b7fe8",
   "metadata": {},
   "outputs": [],
   "source": [
    "poly = Polygon([(0, 0), (0.5, 0), (0.25, 0.5)])"
   ]
  },
  {
   "cell_type": "code",
   "execution_count": 11,
   "id": "9e5333ac-51e6-49f1-8946-f5ff3b2808e4",
   "metadata": {},
   "outputs": [],
   "source": [
    " poly_5 = basic.buffer(poly, 0.1, resolution=2, mitre_limit=.1)"
   ]
  },
  {
   "cell_type": "code",
   "execution_count": 12,
   "id": "a4ffe503-06e9-4567-a5a8-cc254ef504d1",
   "metadata": {},
   "outputs": [
    {
     "data": {
      "image/svg+xml": [
       "<svg xmlns=\"http://www.w3.org/2000/svg\" xmlns:xlink=\"http://www.w3.org/1999/xlink\" width=\"100.0\" height=\"100.0\" viewBox=\"-0.11659813662799091 -0.12715541752799933 0.7331962732559818 0.6990321946059944\" preserveAspectRatio=\"xMinYMin meet\"><g transform=\"matrix(1,0,0,-1,0,0.4447213595499958)\"><path fill-rule=\"evenodd\" fill=\"#66cc99\" stroke=\"#555555\" stroke-width=\"0.014663925465119637\" opacity=\"0.6\" d=\"M -0.08944271909999159,0.044721359549995794 L 0.16055728090000843,0.5447213595499958 L 0.3394427190999916,0.5447213595499958 L 0.5894427190999916,0.044721359549995794 L 0.5,-0.1 L 0.0,-0.1 L -0.08944271909999159,0.044721359549995794 z\" /></g></svg>"
      ],
      "text/plain": [
       "<shapely.geometry.polygon.Polygon at 0x1b7e8b9d0>"
      ]
     },
     "execution_count": 12,
     "metadata": {},
     "output_type": "execute_result"
    }
   ],
   "source": [
    "poly_5"
   ]
  },
  {
   "cell_type": "code",
   "execution_count": 17,
   "id": "ff58f259-b06d-42d1-af87-f77778517271",
   "metadata": {},
   "outputs": [],
   "source": [
    " poly_test = basic.buffer(poly, 0.1, resolution=2, mitre_limit=.3)"
   ]
  },
  {
   "cell_type": "code",
   "execution_count": 18,
   "id": "5f1ad0b2-b226-49a8-8d4b-a4a82469960f",
   "metadata": {},
   "outputs": [
    {
     "data": {
      "image/svg+xml": [
       "<svg xmlns=\"http://www.w3.org/2000/svg\" xmlns:xlink=\"http://www.w3.org/1999/xlink\" width=\"100.0\" height=\"100.0\" viewBox=\"-0.11659813662799091 -0.12715541752799933 0.7331962732559818 0.6990321946059944\" preserveAspectRatio=\"xMinYMin meet\"><g transform=\"matrix(1,0,0,-1,0,0.4447213595499958)\"><path fill-rule=\"evenodd\" fill=\"#66cc99\" stroke=\"#555555\" stroke-width=\"0.014663925465119637\" opacity=\"0.6\" d=\"M -0.08944271909999159,0.044721359549995794 L 0.16055728090000843,0.5447213595499958 L 0.3394427190999916,0.5447213595499958 L 0.5894427190999916,0.044721359549995794 L 0.5,-0.1 L 0.0,-0.1 L -0.08944271909999159,0.044721359549995794 z\" /></g></svg>"
      ],
      "text/plain": [
       "<shapely.geometry.polygon.Polygon at 0x1b7f6c160>"
      ]
     },
     "execution_count": 18,
     "metadata": {},
     "output_type": "execute_result"
    }
   ],
   "source": [
    "poly_test"
   ]
  },
  {
   "cell_type": "code",
   "execution_count": null,
   "id": "6e27f46f-78bb-4236-935a-f371b2263b91",
   "metadata": {},
   "outputs": [],
   "source": []
  }
 ],
 "metadata": {
  "kernelspec": {
   "display_name": "sept14env_ker",
   "language": "python",
   "name": "sept14env_ker"
  },
  "language_info": {
   "codemirror_mode": {
    "name": "ipython",
    "version": 3
   },
   "file_extension": ".py",
   "mimetype": "text/x-python",
   "name": "python",
   "nbconvert_exporter": "python",
   "pygments_lexer": "ipython3",
   "version": "3.10.6"
  }
 },
 "nbformat": 4,
 "nbformat_minor": 5
}
