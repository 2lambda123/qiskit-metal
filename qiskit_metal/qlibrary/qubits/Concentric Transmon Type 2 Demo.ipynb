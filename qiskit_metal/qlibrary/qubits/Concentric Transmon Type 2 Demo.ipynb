{
 "cells": [
  {
   "cell_type": "code",
   "execution_count": null,
   "id": "cc424418",
   "metadata": {},
   "outputs": [],
   "source": [
    "import qiskit_metal as metal\n",
    "from qiskit_metal import designs, draw\n",
    "from qiskit_metal import MetalGUI, Dict #, open_docs"
   ]
  },
  {
   "cell_type": "code",
   "execution_count": null,
   "id": "7aa8f2cf",
   "metadata": {},
   "outputs": [],
   "source": [
    "design = designs.DesignPlanar()\n",
    "gui = MetalGUI(design)"
   ]
  },
  {
   "cell_type": "code",
   "execution_count": null,
   "id": "e46c5300",
   "metadata": {},
   "outputs": [],
   "source": [
    "from qiskit_metal.qlibrary.qubits.transmon_concentric_type_2 import TransmonConcentricType2\n",
    "TransmonConcentricType2.get_template_options(design)"
   ]
  },
  {
   "cell_type": "code",
   "execution_count": null,
   "id": "bd5f9fd6",
   "metadata": {
    "scrolled": true
   },
   "outputs": [],
   "source": [
    "design.overwrite_enabled = True\n",
    "q1 = TransmonConcentricType2(design, 'qubit1', options=dict(pos_x='-2.0mm',orientation='-90'))\n",
    "gui.rebuild()\n",
    "gui.autoscale()"
   ]
  },
  {
   "cell_type": "code",
   "execution_count": null,
   "id": "ae8c81fc",
   "metadata": {},
   "outputs": [],
   "source": []
  }
 ],
 "metadata": {
  "kernelspec": {
   "display_name": "Python 3 (ipykernel)",
   "language": "python",
   "name": "python3"
  },
  "language_info": {
   "codemirror_mode": {
    "name": "ipython",
    "version": 3
   },
   "file_extension": ".py",
   "mimetype": "text/x-python",
   "name": "python",
   "nbconvert_exporter": "python",
   "pygments_lexer": "ipython3",
   "version": "3.10.5"
  }
 },
 "nbformat": 4,
 "nbformat_minor": 5
}
