{
 "cells": [
  {
   "cell_type": "code",
   "execution_count": 8,
   "id": "6acdfa9a",
   "metadata": {},
   "outputs": [],
   "source": [
    "import unittest\n",
    "\n",
    "import numpy as np\n",
    "\n",
    "from shapely.geometry import Polygon\n",
    "from shapely.geometry import LineString\n",
    "from shapely.geometry import CAP_STYLE\n",
    "from shapely.geometry import JOIN_STYLE\n",
    "\n",
    "from qiskit_metal.draw import basic\n",
    "from qiskit_metal.draw import utility\n",
    "from qiskit_metal.draw.utility import Vector, Vec3D\n",
    "from qiskit_metal.tests.assertions import AssertionsMixin"
   ]
  },
  {
   "cell_type": "code",
   "execution_count": 9,
   "id": "b46a4dda",
   "metadata": {},
   "outputs": [],
   "source": [
    "class TestDraw(unittest.TestCase, AssertionsMixin):\n",
    "    \"\"\"Unit test class.\"\"\"\n",
    "\n",
    "    def setUp(self):\n",
    "        \"\"\"Setup unit test.\"\"\"\n",
    "        pass\n",
    "\n",
    "    def tearDown(self):\n",
    "        \"\"\"Tie any loose ends.\"\"\"\n",
    "        pass\n",
    "    def test_draw_basic_buffer(self):\n",
    "        \"\"\"Test buffer in basic.py.\"\"\"\n",
    "        poly = Polygon([(0, 0), (0.5, 0), (0.25, 0.5)])\n",
    "\n",
    "        expected = [[(-0.16180339887498948, -0.1), (0.25, 0.7236067977499789),\n",
    "                     (0.6618033988749895, -0.1), (-0.16180339887498948, -0.1)],\n",
    "                    [(-0.16180339887498948, -0.1), (0.25, 0.7236067977499789),\n",
    "                     (0.6618033988749895, -0.1), (-0.16180339887498948, -0.1)],\n",
    "                    [(-0.16180339887498948, -0.1), (0.25, 0.7236067977499789),\n",
    "                     (0.6618033988749895, -0.1), (-0.16180339887498948, -0.1)],\n",
    "                    [(-0.08944271909999159, 0.044721359549995794),\n",
    "                     (0.16055728090000843, 0.5447213595499958),\n",
    "                     (0.3394427190999916, 0.5447213595499958),\n",
    "                     (0.5894427190999916, 0.044721359549995794), (0.5, -0.1),\n",
    "                     (0.0, -0.1), (-0.08944271909999159, 0.044721359549995794)],\n",
    "                    [(-0.06980083939497377, 0.05587673960663148),\n",
    "                     (0.16341640786499884, 0.5300000000000004),\n",
    "                     (0.3365835921350014, 0.5299999999999997),\n",
    "                     (0.5698008393949741, 0.05587673960663103),\n",
    "                     (0.4812382091061482, -0.08742060633377921),\n",
    "                     (0.018761790893851275, -0.08742060633377935),\n",
    "                     (-0.06980083939497377, 0.05587673960663148)]]\n",
    "\n",
    "        poly_1 = basic.buffer(poly, 0.1)\n",
    "        poly_2 = basic.buffer(poly, 0.1, resolution=2)\n",
    "        poly_3 = basic.buffer(poly,\n",
    "                              0.1,\n",
    "                              resolution=2,\n",
    "                              cap_style=CAP_STYLE.round)\n",
    "        poly_4 = basic.buffer(poly,\n",
    "                              0.1,\n",
    "                              resolution=2,\n",
    "                              cap_style=CAP_STYLE.round,\n",
    "                              join_style=JOIN_STYLE.bevel)\n",
    "        poly_5 = basic.buffer(poly, 0.1, resolution=2, mitre_limit=0.8)\n",
    "        print(\"POLY 5\")\n",
    "        print(poly_5)  #values differ here\n",
    "        "
   ]
  },
  {
   "cell_type": "code",
   "execution_count": 10,
   "id": "d910d901",
   "metadata": {},
   "outputs": [],
   "source": [
    "poly = Polygon([(0, 0), (0.5, 0), (0.25, 0.5)])"
   ]
  },
  {
   "cell_type": "code",
   "execution_count": 11,
   "id": "72d4e070",
   "metadata": {},
   "outputs": [],
   "source": [
    "poly_test = basic.buffer(poly, 0.1, resolution=2, mitre_limit=.8)"
   ]
  },
  {
   "cell_type": "code",
   "execution_count": 12,
   "id": "dc61cc64",
   "metadata": {},
   "outputs": [
    {
     "data": {
      "image/svg+xml": [
       "<svg xmlns=\"http://www.w3.org/2000/svg\" xmlns:xlink=\"http://www.w3.org/1999/xlink\" width=\"100.0\" height=\"100.0\" viewBox=\"-0.13217083887208178 -0.12830895102756162 0.7643416777441636 0.7366179020551233\" preserveAspectRatio=\"xMinYMin meet\"><g transform=\"matrix(1,0,0,-1,0,0.48000000000000004)\"><path fill-rule=\"evenodd\" fill=\"#66cc99\" stroke=\"#555555\" stroke-width=\"0.015286833554883273\" opacity=\"0.6\" d=\"M -0.10386188784452016,0.015883022060938598 L 0.17819660112501057,0.5800000000000001 L 0.32180339887498943,0.5800000000000001 L 0.6038618878445202,0.01588302206093859 L 0.5322422414918063,-0.1 L -0.03224224149180621,-0.1 L -0.10386188784452016,0.015883022060938598 z\" /></g></svg>"
      ],
      "text/plain": [
       "<shapely.geometry.polygon.Polygon at 0x109999090>"
      ]
     },
     "execution_count": 12,
     "metadata": {},
     "output_type": "execute_result"
    }
   ],
   "source": [
    "poly_test"
   ]
  },
  {
   "cell_type": "code",
   "execution_count": 13,
   "id": "6c5f8289",
   "metadata": {},
   "outputs": [
    {
     "name": "stdout",
     "output_type": "stream",
     "text": [
      "POLYGON ((-0.1038618878445202 0.0158830220609386, 0.1781966011250106 0.5800000000000001, 0.3218033988749894 0.5800000000000001, 0.6038618878445202 0.0158830220609386, 0.5322422414918063 -0.1, -0.0322422414918062 -0.1, -0.1038618878445202 0.0158830220609386))\n"
     ]
    }
   ],
   "source": [
    "print(poly_test)"
   ]
  },
  {
   "cell_type": "code",
   "execution_count": null,
   "id": "854263dc",
   "metadata": {},
   "outputs": [],
   "source": []
  }
 ],
 "metadata": {
  "kernelspec": {
   "display_name": "nov_22_2",
   "language": "python",
   "name": "nov_22_2"
  },
  "language_info": {
   "codemirror_mode": {
    "name": "ipython",
    "version": 3
   },
   "file_extension": ".py",
   "mimetype": "text/x-python",
   "name": "python",
   "nbconvert_exporter": "python",
   "pygments_lexer": "ipython3",
   "version": "3.10.8"
  }
 },
 "nbformat": 4,
 "nbformat_minor": 5
}
