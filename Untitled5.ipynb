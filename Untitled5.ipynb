{
 "cells": [
  {
   "cell_type": "code",
   "execution_count": 1,
   "id": "296c722f",
   "metadata": {},
   "outputs": [],
   "source": [
    "import unittest\n",
    "\n",
    "import numpy as np\n",
    "\n",
    "from shapely.geometry import Polygon\n",
    "from shapely.geometry import LineString\n",
    "from shapely.geometry import CAP_STYLE\n",
    "from shapely.geometry import JOIN_STYLE\n",
    "\n",
    "from qiskit_metal.draw import basic\n",
    "from qiskit_metal.draw import utility\n",
    "from qiskit_metal.draw.utility import Vector, Vec3D\n",
    "from qiskit_metal.tests.assertions import AssertionsMixin"
   ]
  },
  {
   "cell_type": "code",
   "execution_count": 2,
   "id": "ba671d1e",
   "metadata": {},
   "outputs": [
    {
     "name": "stdout",
     "output_type": "stream",
     "text": [
      "POLYGON ((-0.0894427190999916 0.0447213595499958, 0.1605572809000084 0.5447213595499958, 0.3394427190999916 0.5447213595499958, 0.5894427190999916 0.0447213595499958, 0.5 -0.1, 0 -0.1, -0.0894427190999916 0.0447213595499958))\n"
     ]
    },
    {
     "data": {
      "image/svg+xml": [
       "<svg xmlns=\"http://www.w3.org/2000/svg\" xmlns:xlink=\"http://www.w3.org/1999/xlink\" width=\"100.0\" height=\"100.0\" viewBox=\"-0.11659813662799091 -0.12715541752799933 0.7331962732559818 0.6990321946059944\" preserveAspectRatio=\"xMinYMin meet\"><g transform=\"matrix(1,0,0,-1,0,0.4447213595499958)\"><path fill-rule=\"evenodd\" fill=\"#66cc99\" stroke=\"#555555\" stroke-width=\"0.014663925465119637\" opacity=\"0.6\" d=\"M -0.08944271909999159,0.044721359549995794 L 0.16055728090000843,0.5447213595499958 L 0.3394427190999916,0.5447213595499958 L 0.5894427190999916,0.044721359549995794 L 0.5,-0.1 L 0.0,-0.1 L -0.08944271909999159,0.044721359549995794 z\" /></g></svg>"
      ],
      "text/plain": [
       "<shapely.geometry.polygon.Polygon at 0x1081ccb50>"
      ]
     },
     "execution_count": 2,
     "metadata": {},
     "output_type": "execute_result"
    }
   ],
   "source": [
    "poly = Polygon([(0, 0), (0.5, 0), (0.25, 0.5)])\n",
    "print(basic.buffer(poly, 0.1, resolution=2, mitre_limit=0.3))\n",
    "basic.buffer(poly, 0.1, resolution=2, mitre_limit=0.3)"
   ]
  },
  {
   "cell_type": "code",
   "execution_count": null,
   "id": "f19cc351",
   "metadata": {},
   "outputs": [],
   "source": []
  }
 ],
 "metadata": {
  "kernelspec": {
   "display_name": "nov_22_1",
   "language": "python",
   "name": "nov_22_1"
  },
  "language_info": {
   "codemirror_mode": {
    "name": "ipython",
    "version": 3
   },
   "file_extension": ".py",
   "mimetype": "text/x-python",
   "name": "python",
   "nbconvert_exporter": "python",
   "pygments_lexer": "ipython3",
   "version": "3.10.8"
  }
 },
 "nbformat": 4,
 "nbformat_minor": 5
}
